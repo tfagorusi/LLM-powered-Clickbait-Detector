{
 "cells": [
  {
   "cell_type": "markdown",
   "id": "b143fde0-3056-41ed-8f0d-142e4fc30841",
   "metadata": {},
   "source": [
    "# LLM-powered Clickbait Detector - Part 1\n",
    "\n",
    "The aim of this project is to classify an article headline as either safe/unsafe and clickbait/non-clickbait using LLMs"
   ]
  },
  {
   "cell_type": "code",
   "execution_count": 1,
   "id": "edeb4f54-4bd2-42f8-a90f-4e01c753a017",
   "metadata": {},
   "outputs": [
    {
     "data": {
      "text/html": [
       "<div>\n",
       "<style scoped>\n",
       "    .dataframe tbody tr th:only-of-type {\n",
       "        vertical-align: middle;\n",
       "    }\n",
       "\n",
       "    .dataframe tbody tr th {\n",
       "        vertical-align: top;\n",
       "    }\n",
       "\n",
       "    .dataframe thead th {\n",
       "        text-align: right;\n",
       "    }\n",
       "</style>\n",
       "<table border=\"1\" class=\"dataframe\">\n",
       "  <thead>\n",
       "    <tr style=\"text-align: right;\">\n",
       "      <th></th>\n",
       "      <th>headline</th>\n",
       "      <th>clickbait</th>\n",
       "    </tr>\n",
       "  </thead>\n",
       "  <tbody>\n",
       "    <tr>\n",
       "      <th>0</th>\n",
       "      <td>Should I Get Bings</td>\n",
       "      <td>1</td>\n",
       "    </tr>\n",
       "    <tr>\n",
       "      <th>1</th>\n",
       "      <td>Which TV Female Friend Group Do You Belong In</td>\n",
       "      <td>1</td>\n",
       "    </tr>\n",
       "    <tr>\n",
       "      <th>2</th>\n",
       "      <td>The New \"Star Wars: The Force Awakens\" Trailer...</td>\n",
       "      <td>1</td>\n",
       "    </tr>\n",
       "    <tr>\n",
       "      <th>3</th>\n",
       "      <td>This Vine Of New York On \"Celebrity Big Brothe...</td>\n",
       "      <td>1</td>\n",
       "    </tr>\n",
       "    <tr>\n",
       "      <th>4</th>\n",
       "      <td>A Couple Did A Stunning Photo Shoot With Their...</td>\n",
       "      <td>1</td>\n",
       "    </tr>\n",
       "  </tbody>\n",
       "</table>\n",
       "</div>"
      ],
      "text/plain": [
       "                                            headline  clickbait\n",
       "0                                 Should I Get Bings          1\n",
       "1      Which TV Female Friend Group Do You Belong In          1\n",
       "2  The New \"Star Wars: The Force Awakens\" Trailer...          1\n",
       "3  This Vine Of New York On \"Celebrity Big Brothe...          1\n",
       "4  A Couple Did A Stunning Photo Shoot With Their...          1"
      ]
     },
     "execution_count": 1,
     "metadata": {},
     "output_type": "execute_result"
    }
   ],
   "source": [
    "# read data\n",
    "import pandas as pd\n",
    "df = pd.read_csv('data_folder/clickbait_data.csv')\n",
    "df.head()"
   ]
  },
  {
   "cell_type": "markdown",
   "id": "27ac8e7d-2986-4f89-886a-c8aa5f612c7c",
   "metadata": {},
   "source": [
    "### Exploratory Analysis"
   ]
  },
  {
   "cell_type": "code",
   "execution_count": 2,
   "id": "bb131958-794c-4bc2-ba00-d6745da54b77",
   "metadata": {},
   "outputs": [
    {
     "name": "stdout",
     "output_type": "stream",
     "text": [
      "<class 'pandas.core.frame.DataFrame'>\n",
      "RangeIndex: 32000 entries, 0 to 31999\n",
      "Data columns (total 2 columns):\n",
      " #   Column     Non-Null Count  Dtype \n",
      "---  ------     --------------  ----- \n",
      " 0   headline   32000 non-null  object\n",
      " 1   clickbait  32000 non-null  int64 \n",
      "dtypes: int64(1), object(1)\n",
      "memory usage: 500.1+ KB\n"
     ]
    }
   ],
   "source": [
    "# check data info\n",
    "df.info()"
   ]
  },
  {
   "cell_type": "markdown",
   "id": "6edfa010-277b-49b1-a912-f771bab49abc",
   "metadata": {},
   "source": [
    "From the `df.info()` output, we see that the data contains two columns - headline and clickbait. For the clickbait column,  we have two classes - clickbait and Non-clickbait, represented as 1 and 0 respectively. Next,check if the classes in data contain missing/null values"
   ]
  },
  {
   "cell_type": "code",
   "execution_count": 3,
   "id": "cd6e489e-0b50-4b71-ae87-dc996ea3294c",
   "metadata": {},
   "outputs": [
    {
     "data": {
      "text/plain": [
       "headline     0\n",
       "clickbait    0\n",
       "dtype: int64"
      ]
     },
     "execution_count": 3,
     "metadata": {},
     "output_type": "execute_result"
    }
   ],
   "source": [
    "#check if any of the columns hvae missing/null values\n",
    "df.isnull().sum()"
   ]
  },
  {
   "cell_type": "markdown",
   "id": "eb184ca4-1706-4ab5-8c8e-c890af0b4b6b",
   "metadata": {},
   "source": [
    "From the above output, it is clear that the each class in the data contains no missing/null values in the columns. Next, we check the distribution of each class in the data. "
   ]
  },
  {
   "cell_type": "code",
   "execution_count": 4,
   "id": "7b25638a-15a1-44d3-871f-eca454859590",
   "metadata": {},
   "outputs": [
    {
     "data": {
      "text/plain": [
       "clickbait\n",
       "0    16001\n",
       "1    15999\n",
       "Name: count, dtype: int64"
      ]
     },
     "execution_count": 4,
     "metadata": {},
     "output_type": "execute_result"
    }
   ],
   "source": [
    "# distribution of each class\n",
    "df['clickbait'].value_counts()"
   ]
  },
  {
   "cell_type": "markdown",
   "id": "059ba7d9-e1e8-4691-8514-1e928be3b95c",
   "metadata": {},
   "source": [
    "We see that we have a balanced data, i.e., relatively equal number of entries for each class - clickbait(15999) and non-clickbait(16001). "
   ]
  },
  {
   "cell_type": "markdown",
   "id": "97d4a5cd-c8a2-44fd-b4e8-1856532cd2c7",
   "metadata": {},
   "source": [
    "### LLM-powered Clickbait Detector\n",
    "We have performed some exploratory data analysis and so far, this is sufficient for us to proceed into building an LLM-powered clickbait detector. For this project, we will leverage on OpenAI's `gpt-3.5-turbo` as our LLM and use `Comet ML` and `Comet LLM` for logging, tracking and debugging our prompts and results. First we have to install the environment requirements and import the neccsary libraries. "
   ]
  },
  {
   "cell_type": "code",
   "execution_count": 5,
   "id": "ba47b457-0c36-4501-b87d-38b1674d2880",
   "metadata": {},
   "outputs": [
    {
     "name": "stdout",
     "output_type": "stream",
     "text": [
      "\u001b[33mWARNING: You are using pip version 21.2.4; however, version 24.0 is available.\n",
      "You should consider upgrading via the '/Users/Tolu/llmops/venv/bin/python3 -m pip install --upgrade pip' command.\u001b[0m\n"
     ]
    }
   ],
   "source": [
    "# install requirements\n",
    "! pip3 install openai==0.28 transformers[torch] comet-ml comet-llm datasets evaluate sentencepiece --quiet tensorflow==2.15 accelerate==0.27.0 scikit-learn"
   ]
  },
  {
   "cell_type": "code",
   "execution_count": 6,
   "id": "c90031bf-1617-4008-8022-f1e11ac3ea6e",
   "metadata": {},
   "outputs": [
    {
     "name": "stderr",
     "output_type": "stream",
     "text": [
      "/Users/Tolu/llmops/venv/lib/python3.9/site-packages/urllib3/__init__.py:35: NotOpenSSLWarning: urllib3 v2 only supports OpenSSL 1.1.1+, currently the 'ssl' module is compiled with 'LibreSSL 2.8.3'. See: https://github.com/urllib3/urllib3/issues/3020\n",
      "  warnings.warn(\n"
     ]
    }
   ],
   "source": [
    "# import required libraries\n",
    "import openai\n",
    "import os\n",
    "import IPython\n",
    "import pandas as pd\n",
    "import numpy as np\n",
    "import comet_llm\n",
    "import comet_ml\n",
    "import pickle\n",
    "import json\n",
    "import torch\n",
    "\n",
    "from transformers import AutoTokenizer\n",
    "from datasets import load_dataset\n",
    "import evaluate\n",
    "from transformers import AutoModelForCausalLM\n",
    "from transformers import AutoTokenizer, AutoModelForSeq2SeqLM, Seq2SeqTrainingArguments, Seq2SeqTrainer\n",
    "from transformers import Trainer, TrainingArguments\n",
    "import transformers\n",
    "transformers.set_seed(35)\n",
    "from datasets import Features, Value, Dataset, DatasetDict\n",
    "\n",
    "\n",
    "device = torch.device(\"cuda\" if torch.cuda.is_available() else \"cpu\")\n",
    "\n",
    "\n",
    "# API configuration\n",
    "openai.api_key = \"YOUR_OPEN_API_KEY\"\n",
    "\n",
    "COMET_API_KEY = \"YOUR_COMET_API\"\n",
    "COMET_WORKSPACE = \"YOUR_COMET_WORKSPACE\""
   ]
  },
  {
   "cell_type": "markdown",
   "id": "7733dd10-1bc3-4ff4-b763-ce7585caf9bf",
   "metadata": {},
   "source": [
    "### Dataset Preparation"
   ]
  },
  {
   "cell_type": "markdown",
   "id": "7c41d8b3-a088-4a5e-bbc6-d40444cb7cad",
   "metadata": {},
   "source": [
    "The `get_completion` function below enables us to get response from our LLM"
   ]
  },
  {
   "cell_type": "code",
   "execution_count": 9,
   "id": "9d565297-555a-4a72-8504-22bbb22d99da",
   "metadata": {},
   "outputs": [],
   "source": [
    "# completion function\n",
    "model = \"gpt-3.5-turbo\"\n",
    "def get_completion(messages, model = \"gpt-3.5-turbo\", temperature=0, max_tokens=300):\n",
    "    response = openai.ChatCompletion.create(\n",
    "        model=model,\n",
    "        messages=messages,\n",
    "        temperature=temperature,\n",
    "        max_tokens=max_tokens,\n",
    "    )\n",
    "    return response.choices[0].message[\"content\"]"
   ]
  },
  {
   "cell_type": "code",
   "execution_count": 8,
   "id": "6b6657a4-fcd5-4f3c-88ba-2e89b78ae517",
   "metadata": {},
   "outputs": [],
   "source": [
    "def decode(indices, index_to_class):\n",
    "    return [index_to_class[index] for index in indices]\n",
    "    \n",
    "class_to_index= {'non-clickbait': '0', 'clickbait': '1'}\n",
    "index_to_class = {v:k for k, v in class_to_index.items()}"
   ]
  },
  {
   "cell_type": "markdown",
   "id": "9ea5b8ba-d805-40ae-b470-03fe65a1c298",
   "metadata": {},
   "source": [
    "### Prompts\n",
    "Prompts are instructions and context passed to a language model to achieve a desired task. The task for this project is to classify article headlines as clickbait or non-clickbait using LLM. So we have to come up with prompts that can help us achieve this task.  "
   ]
  },
  {
   "cell_type": "code",
   "execution_count": 238,
   "id": "fd94b52e-fb62-44c7-bd18-8195a6637de1",
   "metadata": {},
   "outputs": [],
   "source": [
    "# prompt test 1 \n",
    "prompt_prefix = \"\"\"\n",
    "Your task is to classify the headline of an article as Clickbait or Non-clickbait. A clickbait is a text designed to attract attention and to entice users to read, view, or listen to the linked piece of content, being typically deceptive, sensationalized, or otherwise misleading. \n",
    "\n",
    "Your output tag should be  \\'1'\\ if the article headline is clickbait  and \\'0'\\ if it is not clickbait\n",
    "\"\"\"\n",
    "prompt_suffix = \"\"\"headline: {Input} \\nTags: \"\"\"\n"
   ]
  },
  {
   "cell_type": "markdown",
   "id": "f1314c88-e4a7-4f95-9421-42071928ac49",
   "metadata": {},
   "source": [
    "### Prompting Techniques\n",
    "We considering three prompting techniques:\n",
    "- Zero-shot: This technique provides the model with the infomation that tells it what task to perform but with no examples.\n",
    "- Few-shot: This approach involves feeding the LLM model high quality examples to steer its response more effectively.\n",
    "- Chain-of-Thought: In this approach, we guide the model through series of logical steps."
   ]
  },
  {
   "cell_type": "markdown",
   "id": "3c0bcf4c-a161-4d15-b69b-7f853edfdd36",
   "metadata": {},
   "source": [
    "#### Zero Shot Learning"
   ]
  },
  {
   "cell_type": "code",
   "execution_count": 142,
   "id": "23c51600-20fd-461b-abd0-9386896862d6",
   "metadata": {},
   "outputs": [
    {
     "data": {
      "text/plain": [
       "\"\\nYour task is to classify the headline of an article as Clickbait or Non-clickbait. A clickbait is a text designed to attract attention and to entice users to read, view, or listen to the linked piece of content, being typically deceptive, sensationalized, or otherwise misleading. \\nYour output for should be  '1'\\\\ for clickbait and '0'\\\\ for Non-clickbait\\nheadline: {Input} \\nTags: \""
      ]
     },
     "execution_count": 142,
     "metadata": {},
     "output_type": "execute_result"
    }
   ],
   "source": [
    "zero_shot_template = prompt_prefix + prompt_suffix\n",
    "zero_shot_template "
   ]
  },
  {
   "cell_type": "code",
   "execution_count": 144,
   "id": "60cf0027-3832-47f3-b4d3-a11f3447643a",
   "metadata": {},
   "outputs": [
    {
     "name": "stdout",
     "output_type": "stream",
     "text": [
      "0\n"
     ]
    }
   ],
   "source": [
    "## testing zero-shot\n",
    "message = [\n",
    "    {\n",
    "        \"role\": \"system\",\n",
    "        \"content\": zero_shot_template.format(Input=df['headline'][21000])\n",
    "    }\n",
    "]\n",
    "\n",
    "response = get_completion(message)\n",
    "print(response)"
   ]
  },
  {
   "cell_type": "markdown",
   "id": "d91cf9e6-ee27-4b72-9e72-ee9845a35457",
   "metadata": {},
   "source": [
    "### Few Shot Context Learning\n",
    "\n",
    "For few-shot, we show the LLM a few examples of the data"
   ]
  },
  {
   "cell_type": "code",
   "execution_count": 146,
   "id": "ed0dd770-4c3c-4e64-bc73-9d127eefe5c5",
   "metadata": {},
   "outputs": [],
   "source": [
    "# function to define the few-shot template\n",
    "def get_few_shot_template(few_shot_prefix, few_shot_suffix, few_shot_examples):\n",
    "\n",
    "    return few_shot_prefix + \"\\n\\n\" + \"\\n\".join([ \"headline: \"+ few_shot_examples.headline[ex].strip() + \"\\n\" + \"Tags: \" + str(few_shot_examples.clickbait[ex]) + \"\\n\" for ex in range(len(few_shot_examples))]) + \"\\n\\n\" + few_shot_suffix\n",
    "\n",
    "# function to sample few shot data\n",
    "def random_sample_data (data, n):\n",
    "    return data.sample(n, replace=False, ignore_index=True)\n",
    "\n",
    "# the few-shot prefix and suffix\n",
    "few_shot_prefix = \"Your task is to classify the headline of an article as Clickbait or Non-clickbait. A clickbait is a text designed to attract attention and to entice users to read, view, or listen to the linked piece of content, being typically deceptive, sensationalized, or otherwise misleading.\" \n",
    "\n",
    "few_shot_suffix = prompt_suffix\n",
    "\n",
    "# load 3 samples from few shot data\n",
    "few_shot_template = get_few_shot_template(few_shot_prefix, few_shot_suffix, random_sample_data(df, 20))"
   ]
  },
  {
   "cell_type": "markdown",
   "id": "76a6cfa2-e53e-4b99-a88b-e6a5bdd344d7",
   "metadata": {},
   "source": [
    "### Chain of Thought (CoT) prompting technique\n",
    "\n",
    "In this case, there is a twist to the prompt. we are going to guide the LLM through series of reasoning steps to know whether articles are safe/unsafe and clickbait/not clickbait. To define what safety article should be, we check to see if it contains harmful or misleading information. For example, a news article may be tagged non-clickbait, however the content could be potentially unsafe if the context of the headline seem to carry harmful or misleading information. The goal is to classify article headline as either safe/unsafe and clickbait/non-clickbait. We will guide the LLM through a series of steps to steer its response regarding the task."
   ]
  },
  {
   "cell_type": "code",
   "execution_count": 14,
   "id": "b91b9c87-4824-44e2-819f-3cf6451a5acc",
   "metadata": {},
   "outputs": [],
   "source": [
    "cotTemplate = \"\"\"\n",
    "Your task is to classify an article into the following tags based on the headline. \\n\\ntag: ['Clickbait', 'Non-clickbait', 'Safe', 'Unsafe'].\n",
    "\n",
    "A Clickbait is a text designed to attract attention and to entice users to read, view, or listen to the linked piece of content, being typically deceptive, sensationalized, or otherwise misleading. \n",
    "\n",
    "An article is safe if it the information it carries is factually correct, based on data that can be confirmed, not misleading in any way, and does not contain any element of misinformation, disinformation and malinformation. \n",
    "\n",
    "Step 1: Check if the article is a Clickbait\n",
    "Step 2: Check if the article is Safe\n",
    "step 3: Prepare a response in an array to the user based on <Step 1> and <Step 2> whether the article is safe/unsafe and clickbait/not clickbait.\n",
    "\n",
    "Return a response with the following reasoning steps to the user:\n",
    "Step 1: <Step 1 reasoning>\n",
    "Step 2: <Step 2 reasoning>\n",
    "Step 3: <final response>\n",
    "\n",
    "\n",
    " \n",
    "headline: {Input} \n",
    "Tags: \n",
    " \n",
    " \"\"\"\n"
   ]
  },
  {
   "cell_type": "code",
   "execution_count": 15,
   "id": "0acc4e86-6388-428d-b4a4-76abdd3dfb99",
   "metadata": {},
   "outputs": [
    {
     "name": "stdout",
     "output_type": "stream",
     "text": [
      "Step 1: The headline does not appear to be clickbait as it is straightforward and informative.\n",
      "Step 2: The article is likely safe as it suggests that experts are providing information about eating raw meat, which can be factually correct and informative.\n",
      "Step 3: The article is Non-clickbait and Safe.\n"
     ]
    }
   ],
   "source": [
    "## testing CoT\n",
    "message = [\n",
    "    {\n",
    "        \"role\": \"system\",\n",
    "        \"content\": cotTemplate.format(Input=\"```Experts reveal the truth about eating raw meat.```\")\n",
    "    }\n",
    "]\n",
    "\n",
    "response = get_completion(message)\n",
    "print(response)"
   ]
  },
  {
   "cell_type": "markdown",
   "id": "c865bcf4-4ce5-4605-98ce-21acbdd5e07d",
   "metadata": {},
   "source": [
    "### Logging Prompt + Results to Comet\n",
    "\n",
    "The following is a helper function to obtain the final predictions from the model given a prompt template (e.g., zero-shot or few-shot) and the provided input data."
   ]
  },
  {
   "cell_type": "code",
   "execution_count": 16,
   "id": "47808333-3e29-4ac3-ab66-d67cca3e551f",
   "metadata": {},
   "outputs": [],
   "source": [
    "def get_predictions(prompt_template, inputs):\n",
    "\n",
    "    responses = []\n",
    "\n",
    "    for i in range(len(inputs)):\n",
    "        messages = messages = [\n",
    "            {\n",
    "                \"role\": \"system\",\n",
    "                \"content\": prompt_template.format(Input=inputs[i])\n",
    "            }\n",
    "        ]\n",
    "        response = get_completion(messages)\n",
    "        responses.append(response)\n",
    "\n",
    "    return responses"
   ]
  },
  {
   "cell_type": "code",
   "execution_count": 151,
   "id": "33ec431d-24c7-40ec-8e90-cb7c1a100891",
   "metadata": {},
   "outputs": [],
   "source": [
    "# sample articles\n",
    "articles = df.sample(10,replace=False, ignore_index=True)\n",
    "\n",
    "#get predictions for the prompting techniques\n",
    "few_shot_predictions = decode(get_predictions(few_shot_template,articles.headline), index_to_class)\n",
    "zero_shot_predictions = decode(get_predictions(zero_shot_template, articles.headline), index_to_class)\n",
    "cot_predictions = get_predictions(cotTemplate, articles.headline)\n",
    "expected_tags = decode([str(articles[\"clickbait\"][i]) for i in range(len(articles))], index_to_class)"
   ]
  },
  {
   "cell_type": "code",
   "execution_count": 41,
   "id": "c3a7ec47-d7bd-44a2-9c21-8978a11ed6bb",
   "metadata": {},
   "outputs": [
    {
     "name": "stderr",
     "output_type": "stream",
     "text": [
      "\u001b[1;38;5;39mCOMET INFO:\u001b[0m Valid Comet API Key saved in /Users/Tolu/.comet.config (set COMET_CONFIG to change where it is saved).\n"
     ]
    }
   ],
   "source": [
    "# initialize comet\n",
    "comet_llm.init(api_key = COMET_API_KEY, workspace = COMET_WORKSPACE, project=\"clickbait-detector-prompts\")\n",
    "\n",
    "# log the predictions\n",
    "for i in range(len(expected_tags)):\n",
    "    # log the few-shot predictions\n",
    "    comet_llm.log_prompt(\n",
    "        prompt=few_shot_template.format(Input=articles.headline[i]),\n",
    "        prompt_template=few_shot_template,\n",
    "        output=few_shot_predictions[i],\n",
    "        tags = [\"gpt-3.5-turbo\", \"few-shot\"],\n",
    "        metadata = {\n",
    "            \"expected_tags\": expected_tags[i],\n",
    "            \"article\": articles.headline[i],\n",
    "        }\n",
    "    )\n",
    "\n",
    "    # log the zero-shot predictions\n",
    "    comet_llm.log_prompt(\n",
    "        prompt=zero_shot_template.format(Input=articles.headline[i]),\n",
    "        prompt_template=zero_shot_template,\n",
    "        output=zero_shot_predictions[i],\n",
    "        tags = [\"gpt-3.5-turbo\", \"zero-shot\"],\n",
    "        metadata = {\n",
    "            \"expected_tags\": expected_tags[i],\n",
    "            \"article\": articles.headline[i],\n",
    "        }\n",
    "    )\n",
    "\n",
    "    # log the CoT predictions\n",
    "    comet_llm.log_prompt(\n",
    "        prompt=cotTemplate.format(Input=articles.headline[i]),\n",
    "        prompt_template=cotTemplate,\n",
    "        output=cot_predictions[i],\n",
    "        tags = [\"gpt-3.5-turbo\", \"CoT\"],\n",
    "        metadata = {\n",
    "            \"expected_tags\": expected_tags[i],\n",
    "            \"article\": articles.headline[i],\n",
    "        }\n",
    "    )"
   ]
  },
  {
   "cell_type": "markdown",
   "id": "339baca4-bd68-484e-a6d2-0467acb9e433",
   "metadata": {},
   "source": [
    "We have logged our prompts and results to Comet as shown below"
   ]
  },
  {
   "cell_type": "markdown",
   "id": "95e3f7f1-3cda-4072-a80b-99e841772618",
   "metadata": {},
   "source": [
    "<img src=\"./comet_llm.png\" class=\"bg-primary mb-1\" width=\"1024px\">"
   ]
  },
  {
   "cell_type": "markdown",
   "id": "7c70c016-35a8-48a8-9202-b8c8387273a1",
   "metadata": {},
   "source": [
    "### Confusion Matrix\n",
    "\n",
    "Next, we prepare a confusion matrix to better understand the performance of the `few-shot` prompting technique on the classification task."
   ]
  },
  {
   "cell_type": "code",
   "execution_count": 260,
   "id": "76a1b969-aad6-4918-bdb0-04961f1ea67e",
   "metadata": {},
   "outputs": [],
   "source": [
    "from sklearn.metrics import confusion_matrix\n",
    "import seaborn as sns\n",
    "import matplotlib.pyplot as plt\n",
    "\n",
    "# map labels to integers\n",
    "label_map = {\n",
    "    \"non-clickbait\": 0,\n",
    "    \"clickbait\": 1,\n",
    "}\n",
    "\n",
    "# mapper back to string labels\n",
    "label_map_string = {\n",
    "    0: \"non-clickbait\",\n",
    "    1: \"clickbait\",\n",
    "}\n"
   ]
  },
  {
   "cell_type": "code",
   "execution_count": 261,
   "id": "5e47245e-d5df-4a58-89e1-7fd8895835ff",
   "metadata": {},
   "outputs": [],
   "source": [
    "# sample articles\n",
    "articles = df.sample(200,replace=False, ignore_index=True)\n",
    "\n",
    "#get predictions for the prompting techniques\n",
    "few_shot_predictions = decode(get_predictions(few_shot_template,articles.headline), index_to_class)\n",
    "expected_tags = decode([str(articles[\"clickbait\"][i]) for i in range(len(articles))], index_to_class)"
   ]
  },
  {
   "cell_type": "code",
   "execution_count": 268,
   "id": "5f59fae4-9899-412b-accf-b97538cd8908",
   "metadata": {},
   "outputs": [
    {
     "data": {
      "image/png": "[encoded data removed]",
      "text/plain": [
       "<Figure size 800x800 with 2 Axes>"
      ]
     },
     "metadata": {},
     "output_type": "display_data"
    }
   ],
   "source": [
    "few_shot_predictions_int = pd.Series(few_shot_predictions).map(label_map)\n",
    "expected_tags_int = pd.Series(expected_tags).map(label_map)\n",
    "\n",
    "# confusion matrix\n",
    "cm = confusion_matrix(expected_tags_int,few_shot_predictions_int )\n",
    "\n",
    "# plot confusion matrix\n",
    "plt.figure(figsize=(8, 8))\n",
    "sns.heatmap(cm, annot=True, fmt=\".0f\", linewidths=0.5, square=True, cmap=\"Blues_r\")\n",
    "\n",
    "# add emotion labels to confusion matrix\n",
    "plt.ylabel(\"Actual label\")\n",
    "plt.xlabel(\"Predicted label\")\n",
    "\n",
    "# annotate the confusion matrix with completion labels\n",
    "tick_marks = [i for i in range(len(label_map_string))]\n",
    "plt.xticks(tick_marks, list(label_map_string.values()), rotation=\"vertical\")\n",
    "plt.yticks(tick_marks, list(label_map_string.values()), rotation=\"horizontal\");"
   ]
  }
 ],
 "metadata": {
  "kernelspec": {
   "display_name": "Python 3 (ipykernel)",
   "language": "python",
   "name": "python3"
  },
  "language_info": {
   "codemirror_mode": {
    "name": "ipython",
    "version": 3
   },
   "file_extension": ".py",
   "mimetype": "text/x-python",
   "name": "python",
   "nbconvert_exporter": "python",
   "pygments_lexer": "ipython3",
   "version": "3.9.6"
  }
 },
 "nbformat": 4,
 "nbformat_minor": 5
}
