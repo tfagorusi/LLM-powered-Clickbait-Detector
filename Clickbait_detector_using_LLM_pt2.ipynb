{
 "cells": [
  {
   "cell_type": "markdown",
   "id": "3e98682d-58ae-4be9-bc88-2db3326df731",
   "metadata": {},
   "source": [
    "# LLM-power Clickbait Detector - Part 2"
   ]
  },
  {
   "cell_type": "markdown",
   "id": "a2b7a06b-9ded-4347-8d7f-7e6cb7f03e3f",
   "metadata": {},
   "source": [
    "In this part, we consider fine-tuning a small model like Flan-T5-Base for a Clickbait classifier. First we have to import necessary libraries"
   ]
  },
  {
   "cell_type": "code",
   "execution_count": 1,
   "id": "5f1a4949-1100-4416-a7cc-de2accf6a276",
   "metadata": {},
   "outputs": [
    {
     "name": "stderr",
     "output_type": "stream",
     "text": [
      "/Users/Tolu/llmops/venv/lib/python3.9/site-packages/urllib3/__init__.py:35: NotOpenSSLWarning: urllib3 v2 only supports OpenSSL 1.1.1+, currently the 'ssl' module is compiled with 'LibreSSL 2.8.3'. See: https://github.com/urllib3/urllib3/issues/3020\n",
      "  warnings.warn(\n"
     ]
    }
   ],
   "source": [
    "# import required libraries\n",
    "import openai\n",
    "import os\n",
    "import IPython\n",
    "import pandas as pd\n",
    "import numpy as np\n",
    "import comet_llm\n",
    "import comet_ml\n",
    "import pickle\n",
    "import json\n",
    "import torch\n",
    "\n",
    "from transformers import AutoTokenizer\n",
    "from datasets import load_dataset\n",
    "import evaluate\n",
    "from transformers import AutoModelForCausalLM\n",
    "from transformers import AutoTokenizer, AutoModelForSeq2SeqLM, Seq2SeqTrainingArguments, Seq2SeqTrainer, AutoModelForSequenceClassification\n",
    "from transformers import Trainer, TrainingArguments\n",
    "import transformers\n",
    "transformers.set_seed(35)\n",
    "from datasets import Features, Value, Dataset, DatasetDict\n",
    "from sklearn.model_selection import train_test_split\n",
    "\n",
    "\n",
    "device = torch.device(\"cuda\" if torch.cuda.is_available() else \"cpu\")\n",
    "\n",
    "\n",
    "# API configuration\n",
    "openai.api_key = \"YOUR_OPEN_API_KEY\"\n",
    "\n",
    "COMET_API_KEY = \"YOUR_COMET_API\"\n",
    "COMET_WORKSPACE = \"YOUR_COMET_WORKSPACE\""
   ]
  },
  {
   "cell_type": "markdown",
   "id": "847e117b-f009-42cb-a1fe-87a4ce66b4eb",
   "metadata": {},
   "source": [
    "### Import Data"
   ]
  },
  {
   "cell_type": "code",
   "execution_count": 2,
   "id": "7240ef55-4c5d-42a6-a046-1740b5266bfa",
   "metadata": {},
   "outputs": [
    {
     "data": {
      "text/html": [
       "<div>\n",
       "<style scoped>\n",
       "    .dataframe tbody tr th:only-of-type {\n",
       "        vertical-align: middle;\n",
       "    }\n",
       "\n",
       "    .dataframe tbody tr th {\n",
       "        vertical-align: top;\n",
       "    }\n",
       "\n",
       "    .dataframe thead th {\n",
       "        text-align: right;\n",
       "    }\n",
       "</style>\n",
       "<table border=\"1\" class=\"dataframe\">\n",
       "  <thead>\n",
       "    <tr style=\"text-align: right;\">\n",
       "      <th></th>\n",
       "      <th>headline</th>\n",
       "      <th>clickbait</th>\n",
       "    </tr>\n",
       "  </thead>\n",
       "  <tbody>\n",
       "    <tr>\n",
       "      <th>0</th>\n",
       "      <td>Should I Get Bings</td>\n",
       "      <td>1</td>\n",
       "    </tr>\n",
       "    <tr>\n",
       "      <th>1</th>\n",
       "      <td>Which TV Female Friend Group Do You Belong In</td>\n",
       "      <td>1</td>\n",
       "    </tr>\n",
       "    <tr>\n",
       "      <th>2</th>\n",
       "      <td>The New \"Star Wars: The Force Awakens\" Trailer...</td>\n",
       "      <td>1</td>\n",
       "    </tr>\n",
       "    <tr>\n",
       "      <th>3</th>\n",
       "      <td>This Vine Of New York On \"Celebrity Big Brothe...</td>\n",
       "      <td>1</td>\n",
       "    </tr>\n",
       "    <tr>\n",
       "      <th>4</th>\n",
       "      <td>A Couple Did A Stunning Photo Shoot With Their...</td>\n",
       "      <td>1</td>\n",
       "    </tr>\n",
       "  </tbody>\n",
       "</table>\n",
       "</div>"
      ],
      "text/plain": [
       "                                            headline  clickbait\n",
       "0                                 Should I Get Bings          1\n",
       "1      Which TV Female Friend Group Do You Belong In          1\n",
       "2  The New \"Star Wars: The Force Awakens\" Trailer...          1\n",
       "3  This Vine Of New York On \"Celebrity Big Brothe...          1\n",
       "4  A Couple Did A Stunning Photo Shoot With Their...          1"
      ]
     },
     "execution_count": 2,
     "metadata": {},
     "output_type": "execute_result"
    }
   ],
   "source": [
    "# read data\n",
    "import pandas as pd\n",
    "df = pd.read_csv('data_folder/clickbait_data.csv')\n",
    "df.head()"
   ]
  },
  {
   "cell_type": "markdown",
   "id": "92d51a5b-c957-4c4b-9680-817567381aee",
   "metadata": {},
   "source": [
    "### Data Preparation"
   ]
  },
  {
   "cell_type": "code",
   "execution_count": 3,
   "id": "cb4c7f1c-b326-48bd-b449-0541dabd8369",
   "metadata": {},
   "outputs": [],
   "source": [
    "# Split dataset\n",
    "test_size = 0.2\n",
    "train_data, val_data = train_test_split(df, stratify=df.clickbait, test_size=test_size, random_state=123)\n",
    "val_data, test_data = train_test_split(val_data, stratify=val_data.clickbait, test_size=test_size, random_state=101)"
   ]
  },
  {
   "cell_type": "code",
   "execution_count": 48,
   "id": "ca663d3c-b5cf-47a1-be8d-e86898a13539",
   "metadata": {},
   "outputs": [],
   "source": [
    "# Label to index   \n",
    "class_to_index= {'non-clickbait': 0, 'clickbait': 1}\n",
    "index_to_class = {v:k for k, v in class_to_index.items()}\n",
    "\n",
    "def index_to_class_decode(indices, index_to_class):\n",
    "    return [index_to_class[index] for index in indices]\n",
    "\n",
    "def class_to_index_decode(classes, class_to_index):\n",
    "    return [class_to_index[index] for index in classes]"
   ]
  },
  {
   "cell_type": "code",
   "execution_count": 5,
   "id": "be14d562-e828-4c24-9046-32688f0e7da7",
   "metadata": {},
   "outputs": [],
   "source": [
    "#train_data.headline = train_data.headline.apply(clean_text)\n",
    "#val_data.headline = val_data.headline.apply(clean_text)"
   ]
  },
  {
   "cell_type": "markdown",
   "id": "364f350d-d089-422d-b664-15d9c5bb89a0",
   "metadata": {},
   "source": [
    "### Data Sampling"
   ]
  },
  {
   "cell_type": "code",
   "execution_count": 6,
   "id": "da84ba1b-1aaf-47ba-9461-0b68b727547a",
   "metadata": {},
   "outputs": [],
   "source": [
    "sample = True\n",
    "\n",
    "if sample == True:\n",
    "    final_ds = DatasetDict({\n",
    "        \"train\": Dataset.from_pandas(train_data.sample(200)),\n",
    "        \"validation\": Dataset.from_pandas(val_data.sample(50)),\n",
    "        \"test\": Dataset.from_pandas(test_data.sample(25))\n",
    "        \n",
    "    })\n",
    "else:\n",
    "    final_ds = DatasetDict({\n",
    "        \"train\": Dataset.from_pandas(train_data),\n",
    "        \"validation\": Dataset.from_pandas(val_data),\n",
    "        \"test\": Dataset.from_pandas(test_data)\n",
    "    })"
   ]
  },
  {
   "cell_type": "markdown",
   "id": "e0e3f969-7522-405b-adfd-92cbe184ef21",
   "metadata": {},
   "source": [
    "### Base Model using OpenAI chatGPT\n",
    "\n",
    "To evaluate the performance of the finetuned model, we need to compare the preformace with that of a base model. In our case, the base model is OpenAI's `gpt-3.5-turbo` model with zero-shot learning. Zero-shot learning  technique provides the model with the infomation that tells it what task to perform but with no examples. To design the instruction that tell the model what task to perform, we design a a set of instructions know as prompts. In general, Prompts are instructions and context passed to a language model to achieve a desired task. The task for this project is to classify article headlines as clickbait or non-clickbait using LLM."
   ]
  },
  {
   "cell_type": "code",
   "execution_count": 36,
   "id": "ce106fbb-52ce-4b91-9403-0196b951afce",
   "metadata": {},
   "outputs": [],
   "source": [
    "# prompt design \n",
    "prompt_prefix = \"\"\"\n",
    "Your task is to classify the headline of an article as Clickbait or Non-clickbait. A clickbait is a text designed to attract attention and to entice users to read, view, or listen to the linked piece of content, being typically deceptive, sensationalized, or otherwise misleading. \n",
    "\"\"\"\n",
    "prompt_suffix = \"\"\"headline: {Input} \\nTags: \"\"\""
   ]
  },
  {
   "cell_type": "markdown",
   "id": "eb57aca1-c8ea-4379-8c06-50e6f8ebf019",
   "metadata": {},
   "source": [
    "The `get_completion` function below enables us to get response from the `gpt-3.5-turbo` model"
   ]
  },
  {
   "cell_type": "code",
   "execution_count": 8,
   "id": "a143d3de-73ab-4f9a-b0cb-75eb337d9590",
   "metadata": {},
   "outputs": [],
   "source": [
    "# completion function\n",
    "model = \"gpt-3.5-turbo\"\n",
    "def get_completion(messages, model = \"gpt-3.5-turbo\", temperature=0, max_tokens=300):\n",
    "    response = openai.ChatCompletion.create(\n",
    "        model=model,\n",
    "        messages=messages,\n",
    "        temperature=temperature,\n",
    "        max_tokens=max_tokens,\n",
    "    )\n",
    "    return response.choices[0].message[\"content\"]"
   ]
  },
  {
   "cell_type": "code",
   "execution_count": 37,
   "id": "d11218ad-e0ab-4de2-858c-c099c7acfa82",
   "metadata": {},
   "outputs": [
    {
     "data": {
      "text/plain": [
       "'\\nYour task is to classify the headline of an article as Clickbait or Non-clickbait. A clickbait is a text designed to attract attention and to entice users to read, view, or listen to the linked piece of content, being typically deceptive, sensationalized, or otherwise misleading. \\nheadline: {Input} \\nTags: '"
      ]
     },
     "execution_count": 37,
     "metadata": {},
     "output_type": "execute_result"
    }
   ],
   "source": [
    "# zero shot prompt template\n",
    "zero_shot_template = prompt_prefix + prompt_suffix\n",
    "zero_shot_template "
   ]
  },
  {
   "cell_type": "code",
   "execution_count": 10,
   "id": "ffa49fab-17b2-494d-b758-b2578a554175",
   "metadata": {},
   "outputs": [
    {
     "name": "stdout",
     "output_type": "stream",
     "text": [
      "['Non-clickbait']\n"
     ]
    }
   ],
   "source": [
    "## testing zero-shot\n",
    "message = [\n",
    "    {\n",
    "        \"role\": \"system\",\n",
    "        \"content\": zero_shot_template.format(Input=df['headline'][21000])\n",
    "    }\n",
    "]\n",
    "\n",
    "response = get_completion(message)\n",
    "print(response)"
   ]
  },
  {
   "cell_type": "markdown",
   "id": "317e548d-695a-45ab-967f-8dcbe06f3a86",
   "metadata": {},
   "source": [
    "### Finetuning Model\n",
    "For the model we will be finetuning, we will use google's `flan-t5-base` model. First we have to tokenize the data"
   ]
  },
  {
   "cell_type": "markdown",
   "id": "44de3af2-6ee5-4562-a41d-842f95a53a12",
   "metadata": {},
   "source": [
    "### Tokenize Dataset"
   ]
  },
  {
   "cell_type": "code",
   "execution_count": 11,
   "id": "8ff6a384-2074-4940-b00f-d5cbec22feb7",
   "metadata": {},
   "outputs": [
    {
     "name": "stderr",
     "output_type": "stream",
     "text": [
      "Special tokens have been added in the vocabulary, make sure the associated word embeddings are fine-tuned or trained.\n"
     ]
    },
    {
     "data": {
      "application/vnd.jupyter.widget-view+json": {
       "model_id": "50a97f4ff9de4e45b310e8f88560d73f",
       "version_major": 2,
       "version_minor": 0
      },
      "text/plain": [
       "Map:   0%|          | 0/200 [00:00<?, ? examples/s]"
      ]
     },
     "metadata": {},
     "output_type": "display_data"
    },
    {
     "data": {
      "application/vnd.jupyter.widget-view+json": {
       "model_id": "9ec01c16622148f29f6e163b8625f873",
       "version_major": 2,
       "version_minor": 0
      },
      "text/plain": [
       "Map:   0%|          | 0/50 [00:00<?, ? examples/s]"
      ]
     },
     "metadata": {},
     "output_type": "display_data"
    },
    {
     "data": {
      "application/vnd.jupyter.widget-view+json": {
       "model_id": "bc6534df4adc47f2966d51bb95085bb1",
       "version_major": 2,
       "version_minor": 0
      },
      "text/plain": [
       "Map:   0%|          | 0/25 [00:00<?, ? examples/s]"
      ]
     },
     "metadata": {},
     "output_type": "display_data"
    }
   ],
   "source": [
    "# model checkpoint\n",
    "model_checkpoint = \"google/flan-t5-base\"\n",
    "\n",
    "# We'll create a tokenizer from model checkpoint\n",
    "tokenizer = AutoTokenizer.from_pretrained(model_checkpoint, use_fast=False, legacy = False)\n",
    "\n",
    "# We'll need padding to have same length sequences in a batch - needed for flan-t5\n",
    "tokenizer.pad_token = tokenizer.eos_token\n",
    "\n",
    "# prefix\n",
    "prefix_instruction = prompt_prefix \n",
    "\n",
    "# Define a tokenization function that first concatenates text and target\n",
    "def tokenize_function(example):\n",
    "    merged = prefix_instruction + \"\\n\\n\" + \"Text: \" + example[\"headline\"].strip(\"\\n\\n###\\n\\n\") + \"\\n\\n\" + \"tags:\" + str(example[\"clickbait\"])\n",
    "    batch = tokenizer(merged, padding='max_length', truncation=True)\n",
    "    batch[\"labels\"] = batch[\"input_ids\"].copy()\n",
    "    return batch\n",
    "\n",
    "# Apply it on our dataset, and remove the text columns\n",
    "tokenized_datasets = final_ds.map(tokenize_function, remove_columns=[\"headline\", \"clickbait\"])\n"
   ]
  },
  {
   "cell_type": "markdown",
   "id": "c42df841-1520-464e-8227-88fa5d549162",
   "metadata": {},
   "source": [
    "### Model training + logging project to Comet\n",
    "Once the datasets have been tokenized, it is time to finetune the model. We are using the hugging face (HF) Trainer to simplify the finetuning code. In the code below, it's also important to initialize a Comet project which allows tracking the experimental results to Comet. We can also set the COMET_LOG_ASSETS to True to store all model assets and artifacts to Comet."
   ]
  },
  {
   "cell_type": "code",
   "execution_count": 13,
   "id": "fc022fff-2649-406d-aede-c756a44407e6",
   "metadata": {},
   "outputs": [
    {
     "name": "stderr",
     "output_type": "stream",
     "text": [
      "\u001b[1;38;5;214mCOMET WARNING:\u001b[0m As you are running in a Jupyter environment, you will need to call `experiment.end()` when finished to ensure all metrics and code are logged before exiting.\n",
      "\u001b[1;38;5;39mCOMET INFO:\u001b[0m Couldn't find a Git repository in '/Users/Tolu/llmops/venv' nor in any parent directory. Set `COMET_GIT_DIRECTORY` if your Git Repository is elsewhere.\n",
      "\u001b[1;38;5;39mCOMET INFO:\u001b[0m Experiment is live on comet.com https://www.comet.com/projects-space/clickbait-detector-flan-t5/b21d5b82214e478186a04a0d3f3cdfa9\n",
      "\n"
     ]
    },
    {
     "data": {
      "text/html": [
       "\n",
       "    <div>\n",
       "      \n",
       "      <progress value='25' max='25' style='width:300px; height:20px; vertical-align: middle;'></progress>\n",
       "      [25/25 39:19, Epoch 1/1]\n",
       "    </div>\n",
       "    <table border=\"1\" class=\"dataframe\">\n",
       "  <thead>\n",
       " <tr style=\"text-align: left;\">\n",
       "      <th>Epoch</th>\n",
       "      <th>Training Loss</th>\n",
       "      <th>Validation Loss</th>\n",
       "    </tr>\n",
       "  </thead>\n",
       "  <tbody>\n",
       "    <tr>\n",
       "      <td>1</td>\n",
       "      <td>0.004100</td>\n",
       "      <td>0.000811</td>\n",
       "    </tr>\n",
       "  </tbody>\n",
       "</table><p>"
      ],
      "text/plain": [
       "<IPython.core.display.HTML object>"
      ]
     },
     "metadata": {},
     "output_type": "display_data"
    },
    {
     "name": "stderr",
     "output_type": "stream",
     "text": [
      "\u001b[1;38;5;39mCOMET INFO:\u001b[0m ---------------------------------------------------------------------------------------\n",
      "\u001b[1;38;5;39mCOMET INFO:\u001b[0m Comet.ml Experiment Summary\n",
      "\u001b[1;38;5;39mCOMET INFO:\u001b[0m ---------------------------------------------------------------------------------------\n",
      "\u001b[1;38;5;39mCOMET INFO:\u001b[0m   Data:\n",
      "\u001b[1;38;5;39mCOMET INFO:\u001b[0m     display_summary_level : 1\n",
      "\u001b[1;38;5;39mCOMET INFO:\u001b[0m     url                   : https://www.comet.com/projects-space/clickbait-detector-flan-t5/b21d5b82214e478186a04a0d3f3cdfa9\n",
      "\u001b[1;38;5;39mCOMET INFO:\u001b[0m   Metrics [count] (min, max):\n",
      "\u001b[1;38;5;39mCOMET INFO:\u001b[0m     epoch [27]                     : (0.04, 1.0)\n",
      "\u001b[1;38;5;39mCOMET INFO:\u001b[0m     eval/loss                      : 0.0008105471497401595\n",
      "\u001b[1;38;5;39mCOMET INFO:\u001b[0m     eval/runtime                   : 25.1905\n",
      "\u001b[1;38;5;39mCOMET INFO:\u001b[0m     eval/samples_per_second        : 1.985\n",
      "\u001b[1;38;5;39mCOMET INFO:\u001b[0m     eval/steps_per_second          : 0.278\n",
      "\u001b[1;38;5;39mCOMET INFO:\u001b[0m     eval_loss                      : 0.0008105471497401595\n",
      "\u001b[1;38;5;39mCOMET INFO:\u001b[0m     eval_runtime                   : 25.1905\n",
      "\u001b[1;38;5;39mCOMET INFO:\u001b[0m     eval_samples_per_second        : 1.985\n",
      "\u001b[1;38;5;39mCOMET INFO:\u001b[0m     eval_steps_per_second          : 0.278\n",
      "\u001b[1;38;5;39mCOMET INFO:\u001b[0m     learning_rate [25]             : (0.0, 9.6e-05)\n",
      "\u001b[1;38;5;39mCOMET INFO:\u001b[0m     loss [28]                      : (0.0041, 3.002615451812744)\n",
      "\u001b[1;38;5;39mCOMET INFO:\u001b[0m     total_flos                     : 136951470489600.0\n",
      "\u001b[1;38;5;39mCOMET INFO:\u001b[0m     train/epoch [27]               : (0.04, 1.0)\n",
      "\u001b[1;38;5;39mCOMET INFO:\u001b[0m     train/learning_rate [25]       : (0.0, 9.6e-05)\n",
      "\u001b[1;38;5;39mCOMET INFO:\u001b[0m     train/loss [25]                : (0.0041, 3.0026)\n",
      "\u001b[1;38;5;39mCOMET INFO:\u001b[0m     train/total_flos               : 136951470489600.0\n",
      "\u001b[1;38;5;39mCOMET INFO:\u001b[0m     train/train_loss               : 0.1696572124399245\n",
      "\u001b[1;38;5;39mCOMET INFO:\u001b[0m     train/train_runtime            : 1082.6315\n",
      "\u001b[1;38;5;39mCOMET INFO:\u001b[0m     train/train_samples_per_second : 0.185\n",
      "\u001b[1;38;5;39mCOMET INFO:\u001b[0m     train/train_steps_per_second   : 0.023\n",
      "\u001b[1;38;5;39mCOMET INFO:\u001b[0m     train_loss                     : 0.1696572124399245\n",
      "\u001b[1;38;5;39mCOMET INFO:\u001b[0m     train_runtime                  : 1082.6315\n",
      "\u001b[1;38;5;39mCOMET INFO:\u001b[0m     train_samples_per_second       : 0.185\n",
      "\u001b[1;38;5;39mCOMET INFO:\u001b[0m     train_steps_per_second         : 0.023\n",
      "\u001b[1;38;5;39mCOMET INFO:\u001b[0m   Parameters:\n",
      "\u001b[1;38;5;39mCOMET INFO:\u001b[0m     args/_n_gpu                             : 0\n",
      "\u001b[1;38;5;39mCOMET INFO:\u001b[0m     args/_no_sync_in_gradient_accumulation  : True\n",
      "\u001b[1;38;5;39mCOMET INFO:\u001b[0m     args/_setup_devices                     : cpu\n",
      "\u001b[1;38;5;39mCOMET INFO:\u001b[0m     args/adafactor                          : False\n",
      "\u001b[1;38;5;39mCOMET INFO:\u001b[0m     args/adam_beta1                         : 0.9\n",
      "\u001b[1;38;5;39mCOMET INFO:\u001b[0m     args/adam_beta2                         : 0.999\n",
      "\u001b[1;38;5;39mCOMET INFO:\u001b[0m     args/adam_epsilon                       : 1e-08\n",
      "\u001b[1;38;5;39mCOMET INFO:\u001b[0m     args/auto_find_batch_size               : True\n",
      "\u001b[1;38;5;39mCOMET INFO:\u001b[0m     args/bf16                               : False\n",
      "\u001b[1;38;5;39mCOMET INFO:\u001b[0m     args/bf16_full_eval                     : False\n",
      "\u001b[1;38;5;39mCOMET INFO:\u001b[0m     args/data_seed                          : None\n",
      "\u001b[1;38;5;39mCOMET INFO:\u001b[0m     args/dataloader_drop_last               : False\n",
      "\u001b[1;38;5;39mCOMET INFO:\u001b[0m     args/dataloader_num_workers             : 0\n",
      "\u001b[1;38;5;39mCOMET INFO:\u001b[0m     args/dataloader_persistent_workers      : False\n",
      "\u001b[1;38;5;39mCOMET INFO:\u001b[0m     args/dataloader_pin_memory              : False\n",
      "\u001b[1;38;5;39mCOMET INFO:\u001b[0m     args/ddp_backend                        : None\n",
      "\u001b[1;38;5;39mCOMET INFO:\u001b[0m     args/ddp_broadcast_buffers              : None\n",
      "\u001b[1;38;5;39mCOMET INFO:\u001b[0m     args/ddp_bucket_cap_mb                  : None\n",
      "\u001b[1;38;5;39mCOMET INFO:\u001b[0m     args/ddp_find_unused_parameters         : None\n",
      "\u001b[1;38;5;39mCOMET INFO:\u001b[0m     args/ddp_timeout                        : 1800\n",
      "\u001b[1;38;5;39mCOMET INFO:\u001b[0m     args/ddp_timeout_delta                  : 0:30:00\n",
      "\u001b[1;38;5;39mCOMET INFO:\u001b[0m     args/debug                              : []\n",
      "\u001b[1;38;5;39mCOMET INFO:\u001b[0m     args/deepspeed                          : None\n",
      "\u001b[1;38;5;39mCOMET INFO:\u001b[0m     args/deepspeed_plugin                   : None\n",
      "\u001b[1;38;5;39mCOMET INFO:\u001b[0m     args/default_optim                      : adamw_torch\n",
      "\u001b[1;38;5;39mCOMET INFO:\u001b[0m     args/device                             : cpu\n",
      "\u001b[1;38;5;39mCOMET INFO:\u001b[0m     args/disable_tqdm                       : False\n",
      "\u001b[1;38;5;39mCOMET INFO:\u001b[0m     args/dispatch_batches                   : None\n",
      "\u001b[1;38;5;39mCOMET INFO:\u001b[0m     args/distributed_state                  : Distributed environment: NO\n",
      "Num processes: 1\n",
      "Process index: 0\n",
      "Local process index: 0\n",
      "Device: cpu\n",
      "\n",
      "\u001b[1;38;5;39mCOMET INFO:\u001b[0m     args/do_eval                            : True\n",
      "\u001b[1;38;5;39mCOMET INFO:\u001b[0m     args/do_predict                         : False\n",
      "\u001b[1;38;5;39mCOMET INFO:\u001b[0m     args/do_train                           : False\n",
      "\u001b[1;38;5;39mCOMET INFO:\u001b[0m     args/eval_accumulation_steps            : None\n",
      "\u001b[1;38;5;39mCOMET INFO:\u001b[0m     args/eval_batch_size                    : 8\n",
      "\u001b[1;38;5;39mCOMET INFO:\u001b[0m     args/eval_delay                         : 0\n",
      "\u001b[1;38;5;39mCOMET INFO:\u001b[0m     args/eval_steps                         : None\n",
      "\u001b[1;38;5;39mCOMET INFO:\u001b[0m     args/evaluation_strategy                : IntervalStrategy.EPOCH\n",
      "\u001b[1;38;5;39mCOMET INFO:\u001b[0m     args/fp16                               : False\n",
      "\u001b[1;38;5;39mCOMET INFO:\u001b[0m     args/fp16_backend                       : auto\n",
      "\u001b[1;38;5;39mCOMET INFO:\u001b[0m     args/fp16_full_eval                     : False\n",
      "\u001b[1;38;5;39mCOMET INFO:\u001b[0m     args/fp16_opt_level                     : O1\n",
      "\u001b[1;38;5;39mCOMET INFO:\u001b[0m     args/framework                          : pt\n",
      "\u001b[1;38;5;39mCOMET INFO:\u001b[0m     args/fsdp                               : []\n",
      "\u001b[1;38;5;39mCOMET INFO:\u001b[0m     args/fsdp_config                        : {'min_num_params': 0, 'xla': False, 'xla_fsdp_grad_ckpt': False}\n",
      "\u001b[1;38;5;39mCOMET INFO:\u001b[0m     args/fsdp_min_num_params                : 0\n",
      "\u001b[1;38;5;39mCOMET INFO:\u001b[0m     args/fsdp_transformer_layer_cls_to_wrap : None\n",
      "\u001b[1;38;5;39mCOMET INFO:\u001b[0m     args/full_determinism                   : False\n",
      "\u001b[1;38;5;39mCOMET INFO:\u001b[0m     args/generation_config                  : None\n",
      "\u001b[1;38;5;39mCOMET INFO:\u001b[0m     args/generation_max_length              : None\n",
      "\u001b[1;38;5;39mCOMET INFO:\u001b[0m     args/generation_num_beams               : None\n",
      "\u001b[1;38;5;39mCOMET INFO:\u001b[0m     args/gradient_accumulation_steps        : 1\n",
      "\u001b[1;38;5;39mCOMET INFO:\u001b[0m     args/gradient_checkpointing             : False\n",
      "\u001b[1;38;5;39mCOMET INFO:\u001b[0m     args/gradient_checkpointing_kwargs      : None\n",
      "\u001b[1;38;5;39mCOMET INFO:\u001b[0m     args/greater_is_better                  : None\n",
      "\u001b[1;38;5;39mCOMET INFO:\u001b[0m     args/group_by_length                    : False\n",
      "\u001b[1;38;5;39mCOMET INFO:\u001b[0m     args/half_precision_backend             : auto\n",
      "\u001b[1;38;5;39mCOMET INFO:\u001b[0m     args/hub_always_push                    : False\n",
      "\u001b[1;38;5;39mCOMET INFO:\u001b[0m     args/hub_model_id                       : None\n",
      "\u001b[1;38;5;39mCOMET INFO:\u001b[0m     args/hub_private_repo                   : False\n",
      "\u001b[1;38;5;39mCOMET INFO:\u001b[0m     args/hub_strategy                       : HubStrategy.EVERY_SAVE\n",
      "\u001b[1;38;5;39mCOMET INFO:\u001b[0m     args/hub_token                          : None\n",
      "\u001b[1;38;5;39mCOMET INFO:\u001b[0m     args/ignore_data_skip                   : False\n",
      "\u001b[1;38;5;39mCOMET INFO:\u001b[0m     args/include_inputs_for_metrics         : False\n",
      "\u001b[1;38;5;39mCOMET INFO:\u001b[0m     args/include_num_input_tokens_seen      : False\n",
      "\u001b[1;38;5;39mCOMET INFO:\u001b[0m     args/include_tokens_per_second          : False\n",
      "\u001b[1;38;5;39mCOMET INFO:\u001b[0m     args/jit_mode_eval                      : False\n",
      "\u001b[1;38;5;39mCOMET INFO:\u001b[0m     args/label_names                        : None\n",
      "\u001b[1;38;5;39mCOMET INFO:\u001b[0m     args/label_smoothing_factor             : 0.0\n",
      "\u001b[1;38;5;39mCOMET INFO:\u001b[0m     args/learning_rate                      : 0.0001\n",
      "\u001b[1;38;5;39mCOMET INFO:\u001b[0m     args/length_column_name                 : length\n",
      "\u001b[1;38;5;39mCOMET INFO:\u001b[0m     args/load_best_model_at_end             : False\n",
      "\u001b[1;38;5;39mCOMET INFO:\u001b[0m     args/local_process_index                : 0\n",
      "\u001b[1;38;5;39mCOMET INFO:\u001b[0m     args/local_rank                         : 0\n",
      "\u001b[1;38;5;39mCOMET INFO:\u001b[0m     args/log_level                          : passive\n",
      "\u001b[1;38;5;39mCOMET INFO:\u001b[0m     args/log_level_replica                  : warning\n",
      "\u001b[1;38;5;39mCOMET INFO:\u001b[0m     args/log_on_each_node                   : True\n",
      "\u001b[1;38;5;39mCOMET INFO:\u001b[0m     args/logging_dir                        : ./results/runs/Mar13_13-35-28_MacBook-Pro-3.local\n",
      "\u001b[1;38;5;39mCOMET INFO:\u001b[0m     args/logging_first_step                 : False\n",
      "\u001b[1;38;5;39mCOMET INFO:\u001b[0m     args/logging_nan_inf_filter             : True\n",
      "\u001b[1;38;5;39mCOMET INFO:\u001b[0m     args/logging_steps                      : 1\n",
      "\u001b[1;38;5;39mCOMET INFO:\u001b[0m     args/logging_strategy                   : IntervalStrategy.STEPS\n",
      "\u001b[1;38;5;39mCOMET INFO:\u001b[0m     args/lr_scheduler_kwargs                : {}\n",
      "\u001b[1;38;5;39mCOMET INFO:\u001b[0m     args/lr_scheduler_type                  : SchedulerType.LINEAR\n",
      "\u001b[1;38;5;39mCOMET INFO:\u001b[0m     args/max_grad_norm                      : 1.0\n",
      "\u001b[1;38;5;39mCOMET INFO:\u001b[0m     args/max_steps                          : -1\n",
      "\u001b[1;38;5;39mCOMET INFO:\u001b[0m     args/metric_for_best_model              : None\n",
      "\u001b[1;38;5;39mCOMET INFO:\u001b[0m     args/mp_parameters                      : \n",
      "\u001b[1;38;5;39mCOMET INFO:\u001b[0m     args/n_gpu                              : 0\n",
      "\u001b[1;38;5;39mCOMET INFO:\u001b[0m     args/neftune_noise_alpha                : None\n",
      "\u001b[1;38;5;39mCOMET INFO:\u001b[0m     args/no_cuda                            : False\n",
      "\u001b[1;38;5;39mCOMET INFO:\u001b[0m     args/num_train_epochs                   : 1\n",
      "\u001b[1;38;5;39mCOMET INFO:\u001b[0m     args/optim                              : OptimizerNames.ADAMW_TORCH\n",
      "\u001b[1;38;5;39mCOMET INFO:\u001b[0m     args/optim_args                         : None\n",
      "\u001b[1;38;5;39mCOMET INFO:\u001b[0m     args/output_dir                         : ./results\n",
      "\u001b[1;38;5;39mCOMET INFO:\u001b[0m     args/overwrite_output_dir               : True\n",
      "\u001b[1;38;5;39mCOMET INFO:\u001b[0m     args/parallel_mode                      : ParallelMode.NOT_PARALLEL\n",
      "\u001b[1;38;5;39mCOMET INFO:\u001b[0m     args/past_index                         : -1\n",
      "\u001b[1;38;5;39mCOMET INFO:\u001b[0m     args/per_device_eval_batch_size         : 8\n",
      "\u001b[1;38;5;39mCOMET INFO:\u001b[0m     args/per_device_train_batch_size        : 8\n",
      "\u001b[1;38;5;39mCOMET INFO:\u001b[0m     args/per_gpu_eval_batch_size            : None\n",
      "\u001b[1;38;5;39mCOMET INFO:\u001b[0m     args/per_gpu_train_batch_size           : None\n",
      "\u001b[1;38;5;39mCOMET INFO:\u001b[0m     args/place_model_on_device              : True\n",
      "\u001b[1;38;5;39mCOMET INFO:\u001b[0m     args/predict_with_generate              : False\n",
      "\u001b[1;38;5;39mCOMET INFO:\u001b[0m     args/prediction_loss_only               : False\n",
      "\u001b[1;38;5;39mCOMET INFO:\u001b[0m     args/process_index                      : 0\n",
      "\u001b[1;38;5;39mCOMET INFO:\u001b[0m     args/push_to_hub                        : False\n",
      "\u001b[1;38;5;39mCOMET INFO:\u001b[0m     args/push_to_hub_model_id               : None\n",
      "\u001b[1;38;5;39mCOMET INFO:\u001b[0m     args/push_to_hub_organization           : None\n",
      "\u001b[1;38;5;39mCOMET INFO:\u001b[0m     args/push_to_hub_token                  : None\n",
      "\u001b[1;38;5;39mCOMET INFO:\u001b[0m     args/ray_scope                          : last\n",
      "\u001b[1;38;5;39mCOMET INFO:\u001b[0m     args/remove_unused_columns              : True\n",
      "\u001b[1;38;5;39mCOMET INFO:\u001b[0m     args/report_to                          : ['comet_ml', 'tensorboard']\n",
      "\u001b[1;38;5;39mCOMET INFO:\u001b[0m     args/resume_from_checkpoint             : None\n",
      "\u001b[1;38;5;39mCOMET INFO:\u001b[0m     args/run_name                           : ./results\n",
      "\u001b[1;38;5;39mCOMET INFO:\u001b[0m     args/save_on_each_node                  : False\n",
      "\u001b[1;38;5;39mCOMET INFO:\u001b[0m     args/save_only_model                    : False\n",
      "\u001b[1;38;5;39mCOMET INFO:\u001b[0m     args/save_safetensors                   : True\n",
      "\u001b[1;38;5;39mCOMET INFO:\u001b[0m     args/save_steps                         : 7\n",
      "\u001b[1;38;5;39mCOMET INFO:\u001b[0m     args/save_strategy                      : IntervalStrategy.STEPS\n",
      "\u001b[1;38;5;39mCOMET INFO:\u001b[0m     args/save_total_limit                   : 5\n",
      "\u001b[1;38;5;39mCOMET INFO:\u001b[0m     args/seed                               : 42\n",
      "\u001b[1;38;5;39mCOMET INFO:\u001b[0m     args/should_log                         : True\n",
      "\u001b[1;38;5;39mCOMET INFO:\u001b[0m     args/should_save                        : True\n",
      "\u001b[1;38;5;39mCOMET INFO:\u001b[0m     args/skip_memory_metrics                : True\n",
      "\u001b[1;38;5;39mCOMET INFO:\u001b[0m     args/sortish_sampler                    : False\n",
      "\u001b[1;38;5;39mCOMET INFO:\u001b[0m     args/split_batches                      : False\n",
      "\u001b[1;38;5;39mCOMET INFO:\u001b[0m     args/tf32                               : None\n",
      "\u001b[1;38;5;39mCOMET INFO:\u001b[0m     args/torch_compile                      : False\n",
      "\u001b[1;38;5;39mCOMET INFO:\u001b[0m     args/torch_compile_backend              : None\n",
      "\u001b[1;38;5;39mCOMET INFO:\u001b[0m     args/torch_compile_mode                 : None\n",
      "\u001b[1;38;5;39mCOMET INFO:\u001b[0m     args/torchdynamo                        : None\n",
      "\u001b[1;38;5;39mCOMET INFO:\u001b[0m     args/tpu_metrics_debug                  : False\n",
      "\u001b[1;38;5;39mCOMET INFO:\u001b[0m     args/tpu_num_cores                      : None\n",
      "\u001b[1;38;5;39mCOMET INFO:\u001b[0m     args/train_batch_size                   : 8\n",
      "\u001b[1;38;5;39mCOMET INFO:\u001b[0m     args/use_cpu                            : True\n",
      "\u001b[1;38;5;39mCOMET INFO:\u001b[0m     args/use_ipex                           : False\n",
      "\u001b[1;38;5;39mCOMET INFO:\u001b[0m     args/use_legacy_prediction_loop         : False\n",
      "\u001b[1;38;5;39mCOMET INFO:\u001b[0m     args/use_mps_device                     : False\n",
      "\u001b[1;38;5;39mCOMET INFO:\u001b[0m     args/warmup_ratio                       : 0.0\n",
      "\u001b[1;38;5;39mCOMET INFO:\u001b[0m     args/warmup_steps                       : 0\n",
      "\u001b[1;38;5;39mCOMET INFO:\u001b[0m     args/weight_decay                       : 0.01\n",
      "\u001b[1;38;5;39mCOMET INFO:\u001b[0m     args/world_size                         : 1\n",
      "\u001b[1;38;5;39mCOMET INFO:\u001b[0m     config/_attn_implementation             : eager\n",
      "\u001b[1;38;5;39mCOMET INFO:\u001b[0m     config/_attn_implementation_internal    : None\n",
      "\u001b[1;38;5;39mCOMET INFO:\u001b[0m     config/_auto_class                      : None\n",
      "\u001b[1;38;5;39mCOMET INFO:\u001b[0m     config/_commit_hash                     : 7bcac572ce56db69c1ea7c8af255c5d7c9672fc2\n",
      "\u001b[1;38;5;39mCOMET INFO:\u001b[0m     config/_name_or_path                    : google/flan-t5-base\n",
      "\u001b[1;38;5;39mCOMET INFO:\u001b[0m     config/add_cross_attention              : False\n",
      "\u001b[1;38;5;39mCOMET INFO:\u001b[0m     config/architectures                    : ['T5ForConditionalGeneration']\n",
      "\u001b[1;38;5;39mCOMET INFO:\u001b[0m     config/attribute_map                    : {'hidden_size': 'd_model', 'num_attention_heads': 'num_heads', 'num_hidden_layers': 'num_layers'}\n",
      "\u001b[1;38;5;39mCOMET INFO:\u001b[0m     config/bad_words_ids                    : None\n",
      "\u001b[1;38;5;39mCOMET INFO:\u001b[0m     config/begin_suppress_tokens            : None\n",
      "\u001b[1;38;5;39mCOMET INFO:\u001b[0m     config/bos_token_id                     : None\n",
      "\u001b[1;38;5;39mCOMET INFO:\u001b[0m     config/chunk_size_feed_forward          : 0\n",
      "\u001b[1;38;5;39mCOMET INFO:\u001b[0m     config/classifier_dropout               : 0.0\n",
      "\u001b[1;38;5;39mCOMET INFO:\u001b[0m     config/cross_attention_hidden_size      : None\n",
      "\u001b[1;38;5;39mCOMET INFO:\u001b[0m     config/d_ff                             : 2048\n",
      "\u001b[1;38;5;39mCOMET INFO:\u001b[0m     config/d_kv                             : 64\n",
      "\u001b[1;38;5;39mCOMET INFO:\u001b[0m     config/d_model                          : 768\n",
      "\u001b[1;38;5;39mCOMET INFO:\u001b[0m     config/decoder_start_token_id           : 0\n",
      "\u001b[1;38;5;39mCOMET INFO:\u001b[0m     config/dense_act_fn                     : gelu_new\n",
      "\u001b[1;38;5;39mCOMET INFO:\u001b[0m     config/diversity_penalty                : 0.0\n",
      "\u001b[1;38;5;39mCOMET INFO:\u001b[0m     config/do_sample                        : False\n",
      "\u001b[1;38;5;39mCOMET INFO:\u001b[0m     config/dropout_rate                     : 0.1\n",
      "\u001b[1;38;5;39mCOMET INFO:\u001b[0m     config/early_stopping                   : False\n",
      "\u001b[1;38;5;39mCOMET INFO:\u001b[0m     config/encoder_no_repeat_ngram_size     : 0\n",
      "\u001b[1;38;5;39mCOMET INFO:\u001b[0m     config/eos_token_id                     : 1\n",
      "\u001b[1;38;5;39mCOMET INFO:\u001b[0m     config/exponential_decay_length_penalty : None\n",
      "\u001b[1;38;5;39mCOMET INFO:\u001b[0m     config/feed_forward_proj                : gated-gelu\n",
      "\u001b[1;38;5;39mCOMET INFO:\u001b[0m     config/finetuning_task                  : None\n",
      "\u001b[1;38;5;39mCOMET INFO:\u001b[0m     config/forced_bos_token_id              : None\n",
      "\u001b[1;38;5;39mCOMET INFO:\u001b[0m     config/forced_eos_token_id              : None\n",
      "\u001b[1;38;5;39mCOMET INFO:\u001b[0m     config/id2label                         : {0: 'LABEL_0', 1: 'LABEL_1'}\n",
      "\u001b[1;38;5;39mCOMET INFO:\u001b[0m     config/initializer_factor               : 1.0\n",
      "\u001b[1;38;5;39mCOMET INFO:\u001b[0m     config/is_composition                   : False\n",
      "\u001b[1;38;5;39mCOMET INFO:\u001b[0m     config/is_decoder                       : False\n",
      "\u001b[1;38;5;39mCOMET INFO:\u001b[0m     config/is_encoder_decoder               : True\n",
      "\u001b[1;38;5;39mCOMET INFO:\u001b[0m     config/is_gated_act                     : True\n",
      "\u001b[1;38;5;39mCOMET INFO:\u001b[0m     config/keys_to_ignore_at_inference      : ['past_key_values']\n",
      "\u001b[1;38;5;39mCOMET INFO:\u001b[0m     config/label2id                         : {'LABEL_0': 0, 'LABEL_1': 1}\n",
      "\u001b[1;38;5;39mCOMET INFO:\u001b[0m     config/layer_norm_epsilon               : 1e-06\n",
      "\u001b[1;38;5;39mCOMET INFO:\u001b[0m     config/length_penalty                   : 1.0\n",
      "\u001b[1;38;5;39mCOMET INFO:\u001b[0m     config/max_length                       : 20\n",
      "\u001b[1;38;5;39mCOMET INFO:\u001b[0m     config/min_length                       : 0\n",
      "\u001b[1;38;5;39mCOMET INFO:\u001b[0m     config/model_type                       : t5\n",
      "\u001b[1;38;5;39mCOMET INFO:\u001b[0m     config/n_positions                      : 512\n",
      "\u001b[1;38;5;39mCOMET INFO:\u001b[0m     config/name_or_path                     : google/flan-t5-base\n",
      "\u001b[1;38;5;39mCOMET INFO:\u001b[0m     config/no_repeat_ngram_size             : 0\n",
      "\u001b[1;38;5;39mCOMET INFO:\u001b[0m     config/num_beam_groups                  : 1\n",
      "\u001b[1;38;5;39mCOMET INFO:\u001b[0m     config/num_beams                        : 1\n",
      "\u001b[1;38;5;39mCOMET INFO:\u001b[0m     config/num_decoder_layers               : 12\n",
      "\u001b[1;38;5;39mCOMET INFO:\u001b[0m     config/num_heads                        : 12\n",
      "\u001b[1;38;5;39mCOMET INFO:\u001b[0m     config/num_labels                       : 2\n",
      "\u001b[1;38;5;39mCOMET INFO:\u001b[0m     config/num_layers                       : 12\n",
      "\u001b[1;38;5;39mCOMET INFO:\u001b[0m     config/num_return_sequences             : 1\n",
      "\u001b[1;38;5;39mCOMET INFO:\u001b[0m     config/output_attentions                : False\n",
      "\u001b[1;38;5;39mCOMET INFO:\u001b[0m     config/output_hidden_states             : False\n",
      "\u001b[1;38;5;39mCOMET INFO:\u001b[0m     config/output_past                      : True\n",
      "\u001b[1;38;5;39mCOMET INFO:\u001b[0m     config/output_scores                    : False\n",
      "\u001b[1;38;5;39mCOMET INFO:\u001b[0m     config/pad_token_id                     : 0\n",
      "\u001b[1;38;5;39mCOMET INFO:\u001b[0m     config/prefix                           : None\n",
      "\u001b[1;38;5;39mCOMET INFO:\u001b[0m     config/problem_type                     : None\n",
      "\u001b[1;38;5;39mCOMET INFO:\u001b[0m     config/pruned_heads                     : {}\n",
      "\u001b[1;38;5;39mCOMET INFO:\u001b[0m     config/relative_attention_max_distance  : 128\n",
      "\u001b[1;38;5;39mCOMET INFO:\u001b[0m     config/relative_attention_num_buckets   : 32\n",
      "\u001b[1;38;5;39mCOMET INFO:\u001b[0m     config/remove_invalid_values            : False\n",
      "\u001b[1;38;5;39mCOMET INFO:\u001b[0m     config/repetition_penalty               : 1.0\n",
      "\u001b[1;38;5;39mCOMET INFO:\u001b[0m     config/return_dict                      : True\n",
      "\u001b[1;38;5;39mCOMET INFO:\u001b[0m     config/return_dict_in_generate          : False\n",
      "\u001b[1;38;5;39mCOMET INFO:\u001b[0m     config/sep_token_id                     : None\n",
      "\u001b[1;38;5;39mCOMET INFO:\u001b[0m     config/suppress_tokens                  : None\n",
      "\u001b[1;38;5;39mCOMET INFO:\u001b[0m     config/task_specific_params             : {'summarization': {'early_stopping': True, 'length_penalty': 2.0, 'max_length': 200, 'min_length': 30, 'no_repeat_ngram_size': 3, 'num_beams': 4, 'prefix': 'summarize: '}, 'translation_en_to_de': {'early_stopping': True, 'max_length': 300, 'num_beams': 4, 'prefix': 'translate English to German: '}, 'translation_en_to_fr': {'early_stopping': True, 'max_length': 300, 'num_beams': 4, 'prefix': 'translate English to French: '}, 'translation_en_to_ro': {'early_stopping': True, 'max_length': 300, 'num_beams': 4, 'prefix': 'translate English to Romanian: '}}\n",
      "\u001b[1;38;5;39mCOMET INFO:\u001b[0m     config/temperature                      : 1.0\n",
      "\u001b[1;38;5;39mCOMET INFO:\u001b[0m     config/tf_legacy_loss                   : False\n",
      "\u001b[1;38;5;39mCOMET INFO:\u001b[0m     config/tie_encoder_decoder              : False\n",
      "\u001b[1;38;5;39mCOMET INFO:\u001b[0m     config/tie_word_embeddings              : False\n",
      "\u001b[1;38;5;39mCOMET INFO:\u001b[0m     config/tokenizer_class                  : None\n",
      "\u001b[1;38;5;39mCOMET INFO:\u001b[0m     config/top_k                            : 50\n",
      "\u001b[1;38;5;39mCOMET INFO:\u001b[0m     config/top_p                            : 1.0\n",
      "\u001b[1;38;5;39mCOMET INFO:\u001b[0m     config/torch_dtype                      : None\n",
      "\u001b[1;38;5;39mCOMET INFO:\u001b[0m     config/torchscript                      : False\n",
      "\u001b[1;38;5;39mCOMET INFO:\u001b[0m     config/transformers_version             : 4.23.1\n",
      "\u001b[1;38;5;39mCOMET INFO:\u001b[0m     config/typical_p                        : 1.0\n",
      "\u001b[1;38;5;39mCOMET INFO:\u001b[0m     config/use_bfloat16                     : False\n",
      "\u001b[1;38;5;39mCOMET INFO:\u001b[0m     config/use_cache                        : True\n",
      "\u001b[1;38;5;39mCOMET INFO:\u001b[0m     config/use_return_dict                  : True\n",
      "\u001b[1;38;5;39mCOMET INFO:\u001b[0m     config/vocab_size                       : 32128\n",
      "\u001b[1;38;5;39mCOMET INFO:\u001b[0m   Uploads:\n",
      "\u001b[1;38;5;39mCOMET INFO:\u001b[0m     asset               : 37 (8.30 GB)\n",
      "\u001b[1;38;5;39mCOMET INFO:\u001b[0m     environment details : 1\n",
      "\u001b[1;38;5;39mCOMET INFO:\u001b[0m     filename            : 1\n",
      "\u001b[1;38;5;39mCOMET INFO:\u001b[0m     installed packages  : 1\n",
      "\u001b[1;38;5;39mCOMET INFO:\u001b[0m     model graph         : 1\n",
      "\u001b[1;38;5;39mCOMET INFO:\u001b[0m     notebook            : 1\n",
      "\u001b[1;38;5;39mCOMET INFO:\u001b[0m     source_code         : 1\n",
      "\u001b[1;38;5;39mCOMET INFO:\u001b[0m \n",
      "\u001b[1;38;5;39mCOMET INFO:\u001b[0m Please wait for assets to finish uploading (timeout is 10800 seconds)\n",
      "\u001b[1;38;5;39mCOMET INFO:\u001b[0m Still uploading 6 file(s), remaining 8.28 GB/8.30 GB\n",
      "\u001b[1;38;5;39mCOMET INFO:\u001b[0m Still uploading 6 asset(s), remaining 8.18 GB/8.30 GB, Throughput 6.97 MB/s, ETA ~1203s\n",
      "\u001b[1;38;5;39mCOMET INFO:\u001b[0m Still uploading 6 asset(s), remaining 8.09 GB/8.30 GB, Throughput 6.29 MB/s, ETA ~1316s\n",
      "\u001b[1;38;5;39mCOMET INFO:\u001b[0m Still uploading 6 asset(s), remaining 7.99 GB/8.30 GB, Throughput 6.30 MB/s, ETA ~1300s\n",
      "\u001b[1;38;5;39mCOMET INFO:\u001b[0m Still uploading 6 asset(s), remaining 7.90 GB/8.30 GB, Throughput 6.63 MB/s, ETA ~1220s\n",
      "\u001b[1;38;5;39mCOMET INFO:\u001b[0m Still uploading 6 asset(s), remaining 7.79 GB/8.30 GB, Throughput 6.96 MB/s, ETA ~1148s\n",
      "\u001b[1;38;5;39mCOMET INFO:\u001b[0m Still uploading 6 asset(s), remaining 7.71 GB/8.30 GB, Throughput 5.97 MB/s, ETA ~1321s\n",
      "\u001b[1;38;5;39mCOMET INFO:\u001b[0m Still uploading 6 asset(s), remaining 7.61 GB/8.30 GB, Throughput 6.64 MB/s, ETA ~1175s\n",
      "\u001b[1;38;5;39mCOMET INFO:\u001b[0m Still uploading 6 asset(s), remaining 7.51 GB/8.30 GB, Throughput 6.97 MB/s, ETA ~1103s\n",
      "\u001b[1;38;5;39mCOMET INFO:\u001b[0m Still uploading 6 asset(s), remaining 7.42 GB/8.30 GB, Throughput 5.64 MB/s, ETA ~1349s\n",
      "\u001b[1;38;5;39mCOMET INFO:\u001b[0m Still uploading 6 asset(s), remaining 7.32 GB/8.30 GB, Throughput 6.64 MB/s, ETA ~1130s\n",
      "\u001b[1;38;5;39mCOMET INFO:\u001b[0m Still uploading 6 asset(s), remaining 7.22 GB/8.30 GB, Throughput 7.30 MB/s, ETA ~1013s\n",
      "\u001b[1;38;5;39mCOMET INFO:\u001b[0m Still uploading 6 asset(s), remaining 7.12 GB/8.30 GB, Throughput 6.31 MB/s, ETA ~1157s\n",
      "\u001b[1;38;5;39mCOMET INFO:\u001b[0m Still uploading 6 asset(s), remaining 7.03 GB/8.30 GB, Throughput 6.64 MB/s, ETA ~1085s\n",
      "\u001b[1;38;5;39mCOMET INFO:\u001b[0m Still uploading 6 asset(s), remaining 6.93 GB/8.30 GB, Throughput 6.64 MB/s, ETA ~1070s\n",
      "\u001b[1;38;5;39mCOMET INFO:\u001b[0m Still uploading 6 asset(s), remaining 6.83 GB/8.30 GB, Throughput 6.96 MB/s, ETA ~1005s\n",
      "\u001b[1;38;5;39mCOMET INFO:\u001b[0m Still uploading 6 asset(s), remaining 6.74 GB/8.30 GB, Throughput 5.97 MB/s, ETA ~1156s\n",
      "\u001b[1;38;5;39mCOMET INFO:\u001b[0m Still uploading 6 asset(s), remaining 6.65 GB/8.30 GB, Throughput 6.31 MB/s, ETA ~1079s\n",
      "\u001b[1;38;5;39mCOMET INFO:\u001b[0m Still uploading 6 asset(s), remaining 6.54 GB/8.30 GB, Throughput 6.97 MB/s, ETA ~962s\n",
      "\u001b[1;38;5;39mCOMET INFO:\u001b[0m Still uploading 6 asset(s), remaining 6.45 GB/8.30 GB, Throughput 6.64 MB/s, ETA ~995s\n",
      "\u001b[1;38;5;39mCOMET INFO:\u001b[0m Still uploading 6 asset(s), remaining 6.35 GB/8.30 GB, Throughput 6.63 MB/s, ETA ~980s\n",
      "\u001b[1;38;5;39mCOMET INFO:\u001b[0m Still uploading 6 asset(s), remaining 6.26 GB/8.30 GB, Throughput 6.30 MB/s, ETA ~1017s\n",
      "\u001b[1;38;5;39mCOMET INFO:\u001b[0m Still uploading 6 asset(s), remaining 6.15 GB/8.30 GB, Throughput 6.97 MB/s, ETA ~905s\n",
      "\u001b[1;38;5;39mCOMET INFO:\u001b[0m Still uploading 6 asset(s), remaining 6.06 GB/8.30 GB, Throughput 6.62 MB/s, ETA ~937s\n",
      "\u001b[1;38;5;39mCOMET INFO:\u001b[0m Still uploading 6 asset(s), remaining 5.97 GB/8.30 GB, Throughput 5.97 MB/s, ETA ~1023s\n",
      "\u001b[1;38;5;39mCOMET INFO:\u001b[0m Still uploading 6 asset(s), remaining 5.87 GB/8.30 GB, Throughput 6.63 MB/s, ETA ~907s\n",
      "\u001b[1;38;5;39mCOMET INFO:\u001b[0m Still uploading 6 asset(s), remaining 5.77 GB/8.30 GB, Throughput 6.63 MB/s, ETA ~892s\n",
      "\u001b[1;38;5;39mCOMET INFO:\u001b[0m Still uploading 6 asset(s), remaining 5.67 GB/8.30 GB, Throughput 6.97 MB/s, ETA ~834s\n",
      "\u001b[1;38;5;39mCOMET INFO:\u001b[0m Still uploading 6 asset(s), remaining 5.58 GB/8.30 GB, Throughput 6.30 MB/s, ETA ~907s\n",
      "\u001b[1;38;5;39mCOMET INFO:\u001b[0m Still uploading 6 asset(s), remaining 5.47 GB/8.30 GB, Throughput 6.97 MB/s, ETA ~805s\n",
      "\u001b[1;38;5;39mCOMET INFO:\u001b[0m Still uploading 6 asset(s), remaining 5.38 GB/8.30 GB, Throughput 6.63 MB/s, ETA ~830s\n",
      "\u001b[1;38;5;39mCOMET INFO:\u001b[0m Still uploading 6 asset(s), remaining 5.29 GB/8.30 GB, Throughput 5.97 MB/s, ETA ~908s\n",
      "\u001b[1;38;5;39mCOMET INFO:\u001b[0m Still uploading 6 asset(s), remaining 5.19 GB/8.30 GB, Throughput 6.97 MB/s, ETA ~763s\n",
      "\u001b[1;38;5;39mCOMET INFO:\u001b[0m Still uploading 6 asset(s), remaining 5.09 GB/8.30 GB, Throughput 6.63 MB/s, ETA ~786s\n",
      "\u001b[1;38;5;39mCOMET INFO:\u001b[0m Still uploading 6 asset(s), remaining 4.99 GB/8.30 GB, Throughput 6.64 MB/s, ETA ~771s\n",
      "\u001b[1;38;5;39mCOMET INFO:\u001b[0m Still uploading 6 asset(s), remaining 4.90 GB/8.30 GB, Throughput 6.29 MB/s, ETA ~798s\n",
      "\u001b[1;38;5;39mCOMET INFO:\u001b[0m Still uploading 6 asset(s), remaining 4.80 GB/8.30 GB, Throughput 6.63 MB/s, ETA ~742s\n",
      "\u001b[1;38;5;39mCOMET INFO:\u001b[0m Still uploading 6 asset(s), remaining 4.70 GB/8.30 GB, Throughput 6.96 MB/s, ETA ~691s\n",
      "\u001b[1;38;5;39mCOMET INFO:\u001b[0m Still uploading 6 asset(s), remaining 4.60 GB/8.30 GB, Throughput 6.62 MB/s, ETA ~712s\n",
      "\u001b[1;38;5;39mCOMET INFO:\u001b[0m Still uploading 6 asset(s), remaining 4.51 GB/8.30 GB, Throughput 5.97 MB/s, ETA ~775s\n",
      "\u001b[1;38;5;39mCOMET INFO:\u001b[0m Still uploading 6 asset(s), remaining 4.41 GB/8.30 GB, Throughput 6.64 MB/s, ETA ~681s\n",
      "\u001b[1;38;5;39mCOMET INFO:\u001b[0m Still uploading 6 asset(s), remaining 4.31 GB/8.30 GB, Throughput 6.96 MB/s, ETA ~635s\n",
      "\u001b[1;38;5;39mCOMET INFO:\u001b[0m Still uploading 6 asset(s), remaining 4.22 GB/8.30 GB, Throughput 5.97 MB/s, ETA ~725s\n",
      "\u001b[1;38;5;39mCOMET INFO:\u001b[0m Still uploading 6 asset(s), remaining 4.12 GB/8.30 GB, Throughput 6.96 MB/s, ETA ~607s\n",
      "\u001b[1;38;5;39mCOMET INFO:\u001b[0m Still uploading 6 asset(s), remaining 4.02 GB/8.30 GB, Throughput 6.97 MB/s, ETA ~591s\n",
      "\u001b[1;38;5;39mCOMET INFO:\u001b[0m Still uploading 6 asset(s), remaining 3.93 GB/8.30 GB, Throughput 5.97 MB/s, ETA ~675s\n",
      "\u001b[1;38;5;39mCOMET INFO:\u001b[0m Still uploading 6 asset(s), remaining 3.84 GB/8.30 GB, Throughput 6.30 MB/s, ETA ~624s\n",
      "\u001b[1;38;5;39mCOMET INFO:\u001b[0m Still uploading 6 asset(s), remaining 3.74 GB/8.30 GB, Throughput 6.63 MB/s, ETA ~578s\n",
      "\u001b[1;38;5;39mCOMET INFO:\u001b[0m Still uploading 6 asset(s), remaining 3.64 GB/8.30 GB, Throughput 6.64 MB/s, ETA ~563s\n",
      "\u001b[1;38;5;39mCOMET INFO:\u001b[0m Still uploading 6 asset(s), remaining 3.55 GB/8.30 GB, Throughput 6.30 MB/s, ETA ~577s\n",
      "\u001b[1;38;5;39mCOMET INFO:\u001b[0m Still uploading 6 asset(s), remaining 3.45 GB/8.30 GB, Throughput 6.63 MB/s, ETA ~534s\n",
      "\u001b[1;38;5;39mCOMET INFO:\u001b[0m Still uploading 6 asset(s), remaining 3.36 GB/8.30 GB, Throughput 6.62 MB/s, ETA ~519s\n",
      "\u001b[1;38;5;39mCOMET INFO:\u001b[0m Still uploading 6 asset(s), remaining 3.25 GB/8.30 GB, Throughput 6.97 MB/s, ETA ~479s\n",
      "\u001b[1;38;5;39mCOMET INFO:\u001b[0m Still uploading 6 asset(s), remaining 3.16 GB/8.30 GB, Throughput 5.97 MB/s, ETA ~543s\n",
      "\u001b[1;38;5;39mCOMET INFO:\u001b[0m Still uploading 6 asset(s), remaining 3.06 GB/8.30 GB, Throughput 6.96 MB/s, ETA ~451s\n",
      "\u001b[1;38;5;39mCOMET INFO:\u001b[0m Still uploading 5 asset(s), remaining 2.97 GB/7.38 GB, Throughput 6.60 MB/s, ETA ~461s\n",
      "\u001b[1;38;5;39mCOMET INFO:\u001b[0m Still uploading 5 asset(s), remaining 2.87 GB/7.38 GB, Throughput 6.31 MB/s, ETA ~467s\n",
      "\u001b[1;38;5;39mCOMET INFO:\u001b[0m Still uploading 4 asset(s), remaining 2.78 GB/6.46 GB, Throughput 6.60 MB/s, ETA ~431s\n",
      "\u001b[1;38;5;39mCOMET INFO:\u001b[0m Still uploading 4 asset(s), remaining 2.68 GB/6.46 GB, Throughput 6.64 MB/s, ETA ~414s\n",
      "\u001b[1;38;5;39mCOMET INFO:\u001b[0m Still uploading 4 asset(s), remaining 2.59 GB/6.46 GB, Throughput 5.97 MB/s, ETA ~444s\n",
      "\u001b[1;38;5;39mCOMET INFO:\u001b[0m Still uploading 4 asset(s), remaining 2.49 GB/6.46 GB, Throughput 6.63 MB/s, ETA ~386s\n",
      "\u001b[1;38;5;39mCOMET INFO:\u001b[0m Still uploading 3 asset(s), remaining 2.40 GB/5.53 GB, Throughput 6.25 MB/s, ETA ~394s\n",
      "\u001b[1;38;5;39mCOMET INFO:\u001b[0m Still uploading 3 asset(s), remaining 2.31 GB/5.53 GB, Throughput 6.28 MB/s, ETA ~377s\n",
      "\u001b[1;38;5;39mCOMET INFO:\u001b[0m Still uploading 3 asset(s), remaining 2.21 GB/5.53 GB, Throughput 6.60 MB/s, ETA ~343s\n",
      "\u001b[1;38;5;39mCOMET INFO:\u001b[0m Still uploading 3 asset(s), remaining 2.12 GB/5.53 GB, Throughput 5.94 MB/s, ETA ~366s\n",
      "\u001b[1;38;5;39mCOMET INFO:\u001b[0m Still uploading 3 asset(s), remaining 2.03 GB/5.53 GB, Throughput 6.29 MB/s, ETA ~331s\n",
      "\u001b[1;38;5;39mCOMET INFO:\u001b[0m Still uploading 3 asset(s), remaining 1.94 GB/5.53 GB, Throughput 6.30 MB/s, ETA ~315s\n",
      "\u001b[1;38;5;39mCOMET INFO:\u001b[0m Still uploading 3 asset(s), remaining 1.84 GB/5.53 GB, Throughput 6.30 MB/s, ETA ~300s\n",
      "\u001b[1;38;5;39mCOMET INFO:\u001b[0m Still uploading 3 asset(s), remaining 1.75 GB/5.53 GB, Throughput 6.64 MB/s, ETA ~270s\n",
      "\u001b[1;38;5;39mCOMET INFO:\u001b[0m Still uploading 3 asset(s), remaining 1.65 GB/5.53 GB, Throughput 6.30 MB/s, ETA ~269s\n",
      "\u001b[1;38;5;39mCOMET INFO:\u001b[0m Still uploading 3 asset(s), remaining 1.56 GB/5.53 GB, Throughput 6.31 MB/s, ETA ~254s\n",
      "\u001b[1;38;5;39mCOMET INFO:\u001b[0m Still uploading 3 asset(s), remaining 1.46 GB/5.53 GB, Throughput 6.63 MB/s, ETA ~226s\n",
      "\u001b[1;38;5;39mCOMET INFO:\u001b[0m Still uploading 3 asset(s), remaining 1.37 GB/5.53 GB, Throughput 6.30 MB/s, ETA ~223s\n",
      "\u001b[1;38;5;39mCOMET INFO:\u001b[0m Still uploading 3 asset(s), remaining 1.28 GB/5.53 GB, Throughput 5.97 MB/s, ETA ~220s\n",
      "\u001b[1;38;5;39mCOMET INFO:\u001b[0m Still uploading 3 asset(s), remaining 1.19 GB/5.53 GB, Throughput 6.30 MB/s, ETA ~194s\n",
      "\u001b[1;38;5;39mCOMET INFO:\u001b[0m Still uploading 3 asset(s), remaining 1.10 GB/5.53 GB, Throughput 6.30 MB/s, ETA ~179s\n",
      "\u001b[1;38;5;39mCOMET INFO:\u001b[0m Still uploading 3 asset(s), remaining 1.00 GB/5.53 GB, Throughput 6.30 MB/s, ETA ~163s\n",
      "\u001b[1;38;5;39mCOMET INFO:\u001b[0m Still uploading 3 asset(s), remaining 932.26 MB/5.53 GB, Throughput 6.30 MB/s, ETA ~149s\n",
      "\u001b[1;38;5;39mCOMET INFO:\u001b[0m Still uploading 3 asset(s), remaining 832.26 MB/5.53 GB, Throughput 6.64 MB/s, ETA ~126s\n",
      "\u001b[1;38;5;39mCOMET INFO:\u001b[0m Still uploading 3 asset(s), remaining 737.26 MB/5.53 GB, Throughput 6.30 MB/s, ETA ~117s\n",
      "\u001b[1;38;5;39mCOMET INFO:\u001b[0m Still uploading 3 asset(s), remaining 642.26 MB/5.53 GB, Throughput 6.31 MB/s, ETA ~102s\n",
      "\u001b[1;38;5;39mCOMET INFO:\u001b[0m Still uploading 3 asset(s), remaining 547.26 MB/5.53 GB, Throughput 6.29 MB/s, ETA ~88s\n",
      "\u001b[1;38;5;39mCOMET INFO:\u001b[0m Still uploading 3 asset(s), remaining 457.26 MB/5.53 GB, Throughput 5.97 MB/s, ETA ~77s\n",
      "\u001b[1;38;5;39mCOMET INFO:\u001b[0m Still uploading 3 asset(s), remaining 352.26 MB/5.53 GB, Throughput 6.97 MB/s, ETA ~51s\n",
      "\u001b[1;38;5;39mCOMET INFO:\u001b[0m Still uploading 3 asset(s), remaining 262.26 MB/5.53 GB, Throughput 5.98 MB/s, ETA ~44s\n",
      "\u001b[1;38;5;39mCOMET INFO:\u001b[0m Still uploading 3 asset(s), remaining 157.26 MB/5.53 GB, Throughput 6.94 MB/s, ETA ~23s\n",
      "\u001b[1;38;5;39mCOMET INFO:\u001b[0m Still uploading 2 asset(s), remaining 68.18 MB/3.69 GB, Throughput 5.88 MB/s, ETA ~12s\n"
     ]
    },
    {
     "data": {
      "text/plain": [
       "TrainOutput(global_step=25, training_loss=0.1696572124399245, metrics={'train_runtime': 1082.6315, 'train_samples_per_second': 0.185, 'train_steps_per_second': 0.023, 'total_flos': 136951470489600.0, 'train_loss': 0.1696572124399245, 'epoch': 1.0})"
      ]
     },
     "execution_count": 13,
     "metadata": {},
     "output_type": "execute_result"
    }
   ],
   "source": [
    "# initialize comet_ml\n",
    "comet_ml.init(project_name=\"clickbait-detector-flan-t5\", workspace = COMET_WORKSPACE)\n",
    "\n",
    "# training an autoregressive language model from a pretrained checkpoint\n",
    "model = AutoModelForSeq2SeqLM.from_pretrained(model_checkpoint).to(device)\n",
    "\n",
    "\n",
    "# set this to log HF results and assets to Comet\n",
    "os.environ[\"COMET_LOG_ASSETS\"] = \"True\"\n",
    "\n",
    "# HF Trainer\n",
    "model_name = model_checkpoint.split(\"/\")[-1]\n",
    "training_args = Seq2SeqTrainingArguments(\n",
    "    num_train_epochs=1,\n",
    "    output_dir=\"./results\",\n",
    "    overwrite_output_dir=True,\n",
    "    logging_steps=1,\n",
    "    evaluation_strategy = \"epoch\",\n",
    "    learning_rate=1e-4,\n",
    "    weight_decay=0.01,\n",
    "    save_total_limit=5,\n",
    "    save_steps=7,\n",
    "    auto_find_batch_size=True,\n",
    "    use_cpu = True,    \n",
    ")\n",
    "\n",
    "# instantiate HF Trainer\n",
    "trainer = Seq2SeqTrainer(\n",
    "    model=model,\n",
    "    args=training_args,\n",
    "    train_dataset=tokenized_datasets[\"train\"],\n",
    "    eval_dataset=tokenized_datasets[\"validation\"],\n",
    "    tokenizer=tokenizer,\n",
    ")\n",
    "\n",
    "# run trainer\n",
    "trainer.train()"
   ]
  },
  {
   "cell_type": "markdown",
   "id": "eec5a693-3c74-4ae5-9599-91519457b721",
   "metadata": {},
   "source": [
    "### Save Finetuned Model"
   ]
  },
  {
   "cell_type": "markdown",
   "id": "9155bb6e-4294-4bc1-85f7-7e5c6cb421d2",
   "metadata": {},
   "source": [
    "Now we save the model locally"
   ]
  },
  {
   "cell_type": "code",
   "execution_count": 14,
   "id": "3c0f2c8e-001a-4f62-9265-174f71e3d981",
   "metadata": {},
   "outputs": [],
   "source": [
    "# save the model\n",
    "trainer.save_model(\"./results\")"
   ]
  },
  {
   "cell_type": "markdown",
   "id": "d21b9ad4-813f-446f-a199-51dd744d87da",
   "metadata": {},
   "source": [
    "### Register Model\n",
    "\n",
    "We will register the model to comet"
   ]
  },
  {
   "cell_type": "code",
   "execution_count": 15,
   "id": "34b33c71-d1df-4497-8ab4-5f23ce0b8f52",
   "metadata": {},
   "outputs": [
    {
     "name": "stderr",
     "output_type": "stream",
     "text": [
      "\u001b[1;38;5;214mCOMET WARNING:\u001b[0m As you are running in a Jupyter environment, you will need to call `experiment.end()` when finished to ensure all metrics and code are logged before exiting.\n",
      "\u001b[1;38;5;39mCOMET INFO:\u001b[0m Couldn't find a Git repository in '/Users/Tolu/llmops/venv' nor in any parent directory. Set `COMET_GIT_DIRECTORY` if your Git Repository is elsewhere.\n",
      "\u001b[1;38;5;39mCOMET INFO:\u001b[0m Experiment is live on comet.com https://www.comet.com/projects-space/clickbait-detector-flan-t5/b21d5b82214e478186a04a0d3f3cdfa9\n",
      "\n",
      "\u001b[1;38;5;39mCOMET INFO:\u001b[0m ---------------------------------------------------------------------------------------\n",
      "\u001b[1;38;5;39mCOMET INFO:\u001b[0m Comet.ml ExistingExperiment Summary\n",
      "\u001b[1;38;5;39mCOMET INFO:\u001b[0m ---------------------------------------------------------------------------------------\n",
      "\u001b[1;38;5;39mCOMET INFO:\u001b[0m   Data:\n",
      "\u001b[1;38;5;39mCOMET INFO:\u001b[0m     display_summary_level : 1\n",
      "\u001b[1;38;5;39mCOMET INFO:\u001b[0m     url                   : https://www.comet.com/projects-space/clickbait-detector-flan-t5/b21d5b82214e478186a04a0d3f3cdfa9\n",
      "\u001b[1;38;5;39mCOMET INFO:\u001b[0m   Uploads:\n",
      "\u001b[1;38;5;39mCOMET INFO:\u001b[0m     model-element : 12 (2.77 GB)\n",
      "\u001b[1;38;5;39mCOMET INFO:\u001b[0m \n",
      "\u001b[1;38;5;39mCOMET INFO:\u001b[0m Please wait for metadata to finish uploading (timeout is 3600 seconds)\n",
      "\u001b[1;38;5;39mCOMET INFO:\u001b[0m Uploading 10 metrics, params and output messages\n",
      "\u001b[1;38;5;39mCOMET INFO:\u001b[0m Successfully registered 'Clickbait-Detector-Flan-T5-Base', version None in workspace 'projects-space'\n",
      "\u001b[1;38;5;39mCOMET INFO:\u001b[0m Please wait for assets to finish uploading (timeout is 10800 seconds)\n",
      "\u001b[1;38;5;39mCOMET INFO:\u001b[0m Still uploading 3 file(s), remaining 2.77 GB/2.77 GB\n",
      "\u001b[1;38;5;39mCOMET INFO:\u001b[0m Still uploading 2 asset(s), remaining 2.68 GB/2.77 GB, Throughput 5.64 MB/s, ETA ~488s\n",
      "\u001b[1;38;5;39mCOMET INFO:\u001b[0m Still uploading 2 asset(s), remaining 2.59 GB/2.77 GB, Throughput 6.30 MB/s, ETA ~422s\n",
      "\u001b[1;38;5;39mCOMET INFO:\u001b[0m Still uploading 2 asset(s), remaining 2.51 GB/2.77 GB, Throughput 5.63 MB/s, ETA ~457s\n",
      "\u001b[1;38;5;39mCOMET INFO:\u001b[0m Still uploading 2 asset(s), remaining 2.42 GB/2.77 GB, Throughput 6.30 MB/s, ETA ~393s\n",
      "\u001b[1;38;5;39mCOMET INFO:\u001b[0m Still uploading 2 asset(s), remaining 2.33 GB/2.77 GB, Throughput 5.64 MB/s, ETA ~424s\n",
      "\u001b[1;38;5;39mCOMET INFO:\u001b[0m Still uploading 2 asset(s), remaining 2.24 GB/2.77 GB, Throughput 6.31 MB/s, ETA ~364s\n",
      "\u001b[1;38;5;39mCOMET INFO:\u001b[0m Still uploading 2 asset(s), remaining 2.15 GB/2.77 GB, Throughput 5.98 MB/s, ETA ~369s\n",
      "\u001b[1;38;5;39mCOMET INFO:\u001b[0m Still uploading 2 asset(s), remaining 2.06 GB/2.77 GB, Throughput 5.97 MB/s, ETA ~355s\n",
      "\u001b[1;38;5;39mCOMET INFO:\u001b[0m Still uploading 2 asset(s), remaining 1.98 GB/2.77 GB, Throughput 5.64 MB/s, ETA ~360s\n",
      "\u001b[1;38;5;39mCOMET INFO:\u001b[0m Still uploading 2 asset(s), remaining 1.89 GB/2.77 GB, Throughput 5.97 MB/s, ETA ~325s\n",
      "\u001b[1;38;5;39mCOMET INFO:\u001b[0m Still uploading 2 asset(s), remaining 1.80 GB/2.77 GB, Throughput 6.30 MB/s, ETA ~293s\n",
      "\u001b[1;38;5;39mCOMET INFO:\u001b[0m Still uploading 2 asset(s), remaining 1.71 GB/2.77 GB, Throughput 5.97 MB/s, ETA ~294s\n",
      "\u001b[1;38;5;39mCOMET INFO:\u001b[0m Still uploading 2 asset(s), remaining 1.62 GB/2.77 GB, Throughput 5.97 MB/s, ETA ~279s\n",
      "\u001b[1;38;5;39mCOMET INFO:\u001b[0m Still uploading 2 asset(s), remaining 1.54 GB/2.77 GB, Throughput 5.97 MB/s, ETA ~264s\n",
      "\u001b[1;38;5;39mCOMET INFO:\u001b[0m Still uploading 2 asset(s), remaining 1.45 GB/2.77 GB, Throughput 5.97 MB/s, ETA ~249s\n",
      "\u001b[1;38;5;39mCOMET INFO:\u001b[0m Still uploading 2 asset(s), remaining 1.36 GB/2.77 GB, Throughput 5.97 MB/s, ETA ~234s\n",
      "\u001b[1;38;5;39mCOMET INFO:\u001b[0m Still uploading 2 asset(s), remaining 1.27 GB/2.77 GB, Throughput 5.97 MB/s, ETA ~219s\n",
      "\u001b[1;38;5;39mCOMET INFO:\u001b[0m Still uploading 2 asset(s), remaining 1.18 GB/2.77 GB, Throughput 6.30 MB/s, ETA ~192s\n",
      "\u001b[1;38;5;39mCOMET INFO:\u001b[0m Still uploading 2 asset(s), remaining 1.09 GB/2.77 GB, Throughput 5.97 MB/s, ETA ~188s\n",
      "\u001b[1;38;5;39mCOMET INFO:\u001b[0m Still uploading 2 asset(s), remaining 1.00 GB/2.77 GB, Throughput 5.97 MB/s, ETA ~173s\n",
      "\u001b[1;38;5;39mCOMET INFO:\u001b[0m Still uploading 1 asset(s), remaining 944.09 MB/1.84 GB, Throughput 5.61 MB/s, ETA ~169s\n",
      "\u001b[1;38;5;39mCOMET INFO:\u001b[0m Still uploading 1 asset(s), remaining 879.09 MB/1.84 GB, Throughput 4.31 MB/s, ETA ~204s\n",
      "\u001b[1;38;5;39mCOMET INFO:\u001b[0m Still uploading 1 asset(s), remaining 804.09 MB/1.84 GB, Throughput 4.98 MB/s, ETA ~162s\n",
      "\u001b[1;38;5;39mCOMET INFO:\u001b[0m Still uploading 1 asset(s), remaining 729.09 MB/1.84 GB, Throughput 4.97 MB/s, ETA ~147s\n",
      "\u001b[1;38;5;39mCOMET INFO:\u001b[0m Still uploading 1 asset(s), remaining 654.09 MB/1.84 GB, Throughput 4.97 MB/s, ETA ~132s\n",
      "\u001b[1;38;5;39mCOMET INFO:\u001b[0m Still uploading 1 asset(s), remaining 574.09 MB/1.84 GB, Throughput 5.31 MB/s, ETA ~109s\n",
      "\u001b[1;38;5;39mCOMET INFO:\u001b[0m Still uploading 1 asset(s), remaining 499.09 MB/1.84 GB, Throughput 4.97 MB/s, ETA ~101s\n",
      "\u001b[1;38;5;39mCOMET INFO:\u001b[0m Still uploading 1 asset(s), remaining 429.09 MB/1.84 GB, Throughput 4.64 MB/s, ETA ~93s\n",
      "\u001b[1;38;5;39mCOMET INFO:\u001b[0m Still uploading 1 asset(s), remaining 369.09 MB/1.84 GB, Throughput 3.96 MB/s, ETA ~94s\n",
      "\u001b[1;38;5;39mCOMET INFO:\u001b[0m Still uploading 1 asset(s), remaining 299.09 MB/1.84 GB, Throughput 4.62 MB/s, ETA ~65s\n",
      "\u001b[1;38;5;39mCOMET INFO:\u001b[0m Still uploading 1 asset(s), remaining 224.09 MB/1.84 GB, Throughput 4.95 MB/s, ETA ~46s\n",
      "\u001b[1;38;5;39mCOMET INFO:\u001b[0m Still uploading 1 asset(s), remaining 144.09 MB/1.84 GB, Throughput 5.28 MB/s, ETA ~28s\n",
      "\u001b[1;38;5;39mCOMET INFO:\u001b[0m Still uploading 1 asset(s), remaining 74.09 MB/1.84 GB, Throughput 4.62 MB/s, ETA ~17s\n",
      "\u001b[1;38;5;39mCOMET INFO:\u001b[0m All assets have been sent, waiting for delivery confirmation\n"
     ]
    }
   ],
   "source": [
    "# set existing experiment\n",
    "from comet_ml import ExistingExperiment\n",
    "\n",
    "experiment = ExistingExperiment(api_key=COMET_API_KEY, previous_experiment=\"b21d5b82214e478186a04a0d3f3cdfa9\")\n",
    "experiment.log_model(\"Clickbait-Detector-Flan-T5-Base\", \"./results/checkpoint-7\")\n",
    "experiment.register_model(\"Clickbait-Detector-Flan-T5-Base\")\n",
    "\n",
    "experiment.end()"
   ]
  },
  {
   "cell_type": "markdown",
   "id": "a0ba69ae-1d5d-44ba-9434-ed1217ff3ce4",
   "metadata": {},
   "source": [
    "### Deploy the Model\n",
    "\n",
    "To deploy the model, first we have to dowload the model and tokenizer we are trying to use from Comet. Then, use Huggingface's Transformers library to load the pretrained model and tokenizer."
   ]
  },
  {
   "cell_type": "code",
   "execution_count": 16,
   "id": "ce97eece-b59a-4b3f-852c-684e67da38cf",
   "metadata": {},
   "outputs": [
    {
     "name": "stderr",
     "output_type": "stream",
     "text": [
      "\u001b[1;38;5;39mCOMET INFO:\u001b[0m Remote Model 'projects-space/clickbait-detector-flan-t5-base:1.0.0' download has been started asynchronously.\n",
      "\u001b[1;38;5;39mCOMET INFO:\u001b[0m Still downloading 12 file(s), remaining 2.77 GB/2.77 GB\n",
      "\u001b[1;38;5;39mCOMET INFO:\u001b[0m Still downloading 2 file(s), remaining 2.34 GB/2.77 GB, Throughput 28.74 MB/s, ETA ~84s\n",
      "\u001b[1;38;5;39mCOMET INFO:\u001b[0m Still downloading 2 file(s), remaining 1.85 GB/2.77 GB, Throughput 33.45 MB/s, ETA ~57s\n",
      "\u001b[1;38;5;39mCOMET INFO:\u001b[0m Still downloading 2 file(s), remaining 1.38 GB/2.77 GB, Throughput 31.80 MB/s, ETA ~45s\n",
      "\u001b[1;38;5;39mCOMET INFO:\u001b[0m Still downloading 2 file(s), remaining 931.55 MB/2.77 GB, Throughput 32.08 MB/s, ETA ~30s\n",
      "\u001b[1;38;5;39mCOMET INFO:\u001b[0m Still downloading 1 file(s), remaining 689.09 MB/2.77 GB, Throughput 16.08 MB/s, ETA ~43s\n",
      "\u001b[1;38;5;39mCOMET INFO:\u001b[0m Still downloading 1 file(s), remaining 449.09 MB/2.77 GB, Throughput 15.91 MB/s, ETA ~29s\n",
      "\u001b[1;38;5;39mCOMET INFO:\u001b[0m Still downloading 1 file(s), remaining 214.09 MB/2.77 GB, Throughput 15.57 MB/s, ETA ~14s\n",
      "\u001b[1;38;5;39mCOMET INFO:\u001b[0m Remote Model 'projects-space/clickbait-detector-flan-t5-base:1.0.0' has been successfully downloaded.\n",
      "\u001b[1;38;5;39mCOMET INFO:\u001b[0m Downloaded asset files is in './deploy' folder.\n"
     ]
    }
   ],
   "source": [
    "from comet_ml import API\n",
    "\n",
    "api = API(api_key=COMET_API_KEY)\n",
    "\n",
    "# model name\n",
    "model_name = \"clickbait-detector-flan-t5-base\"\n",
    "\n",
    "#get the Model object\n",
    "model = api.get_model(workspace=COMET_WORKSPACE, model_name=model_name)\n",
    "\n",
    "# Download a Registry Model:\n",
    "model.download(\"1.0.0\", \"./deploy\", expand=True)"
   ]
  },
  {
   "cell_type": "code",
   "execution_count": 17,
   "id": "b54feaa3-fe04-4e0e-b444-56ba7e308c88",
   "metadata": {},
   "outputs": [
    {
     "name": "stderr",
     "output_type": "stream",
     "text": [
      "Special tokens have been added in the vocabulary, make sure the associated word embeddings are fine-tuned or trained.\n"
     ]
    }
   ],
   "source": [
    "model = AutoModelForSeq2SeqLM.from_pretrained(\"./deploy/checkpoint-7\")\n",
    "tokenizer = AutoTokenizer.from_pretrained(\"./deploy/checkpoint-7/\")"
   ]
  },
  {
   "cell_type": "markdown",
   "id": "93397c4d-e3bd-4388-b312-b6adca975be3",
   "metadata": {},
   "source": [
    "## Evaluate Finetuned Clickbait Classifier, Logging Prompt + Results to Comet"
   ]
  },
  {
   "cell_type": "markdown",
   "id": "cbc2fc2c-9384-4bc8-9cb5-165facbc52eb",
   "metadata": {},
   "source": [
    "Evaluate different models and prompting techniques and log results when prompting the fine-tuned model. We will aslo log results with few-shot and zero-shot prompting using gpt-3.5-turbo. This way it will be possible to compare the finetuned model with other high-performing models."
   ]
  },
  {
   "cell_type": "markdown",
   "id": "891919c8-5beb-4147-a862-9c1b823b3b93",
   "metadata": {},
   "source": [
    "### Evaluation - Confusion Matrix\n",
    "\n",
    "We prepare a confusion matrix to better understand the performance of OpenAI's `gpt-3.5-turbo` base model with zero shot learning and the finetuned `flan-t5` model. The `get_predictions` is helper function to obtain the final predictions from the OpenAI model given a prompt template (e.g., zero-shot or few-shot) and the provided input data. "
   ]
  },
  {
   "cell_type": "code",
   "execution_count": 31,
   "id": "93e19e60-5822-40d1-8980-2128dec98c49",
   "metadata": {},
   "outputs": [],
   "source": [
    "def get_predictions(prompt_template, inputs):\n",
    "\n",
    "    responses = []\n",
    "\n",
    "    for i in range(len(inputs)):\n",
    "        messages = messages = [\n",
    "            {\n",
    "                \"role\": \"system\",\n",
    "                \"content\": prompt_template.format(Input=inputs[i])\n",
    "            }\n",
    "        ]\n",
    "        response = get_completion(messages)\n",
    "        responses.append(response)\n",
    "\n",
    "    return responses"
   ]
  },
  {
   "cell_type": "code",
   "execution_count": 70,
   "id": "d8ccd7b9-7824-41a8-94be-cc0baaa908f1",
   "metadata": {},
   "outputs": [],
   "source": [
    "# finetuned model prompt prefix\n",
    "prefix = prefix_instruction + \"\\n\\n\" + \"Text:\"\n",
    "\n",
    "# take some test data samples as input to our models\n",
    "test_data_sample = test_data.sample(50,replace=False, ignore_index=True)\n",
    "\n",
    "# prepare prompts \n",
    "prompts = [{\"headline\": row.headline.strip(\"\\n\\n###\\n\\n\"), \"tags\": str(row.clickbait)} for index, row in test_data_sample.iterrows()]\n",
    "\n",
    "# prepare zero-shot and few-shot predictions\n",
    "articles = [prompts[i][\"headline\"] for i in range(len(prompts))]\n",
    "expected_tags = test_data_sample['clickbait'].to_list()\n",
    "\n",
    "# zero shot predictions\n",
    "zero_shot_predictions = get_predictions(zero_shot_template, test_data_sample.headline)\n",
    "zero_shot_predictions = [x.lower() for x in zero_shot_predictions]\n",
    "\n",
    "# finetuned model predictions\n",
    "finetuned_predictions = []\n",
    "for i in range(len(prompts)):\n",
    "    \n",
    "    # finetuned model outputs\n",
    "    input_ids = tokenizer.encode(prefix + prompts[i][\"headline\"] + \"\\n\\n\" + \" tag:\", return_tensors=\"pt\")\n",
    "    output = model.generate(input_ids, do_sample=True, max_new_tokens=300, temperature=1.0)\n",
    "    output_text = tokenizer.decode(output[0], skip_special_tokens=True).strip(\"<pad>\").strip(\" \")\n",
    "\n",
    "    finetuned_predictions.append(output_text.lower())"
   ]
  },
  {
   "cell_type": "code",
   "execution_count": 96,
   "id": "5b545c8d-b0f0-4453-b51a-5929b37d81fc",
   "metadata": {},
   "outputs": [
    {
     "data": {
      "image/png": "[encoded data removed]",
      "text/plain": [
       "<Figure size 1200x500 with 4 Axes>"
      ]
     },
     "metadata": {},
     "output_type": "display_data"
    }
   ],
   "source": [
    "### Plot Confusion matrix \n",
    "\n",
    "from sklearn  import metrics\n",
    "import seaborn as sns\n",
    "import matplotlib.pyplot as plt\n",
    "\n",
    "zero_shot_predictions_int = pd.Series(zero_shot_predictions).map(class_to_index)\n",
    "finetuned_predictions_int = pd.Series(finetuned_predictions).map(class_to_index)\n",
    "expected_tags_int = pd.Series(expected_tags)\n",
    "\n",
    "# create subplots\n",
    "f, ax = plt.subplots(1, 2, figsize=(12,5))\n",
    "\n",
    "ax[0].set_title(\"gpt-3.5-turbo base model: zero shot\")\n",
    "ax[1].set_title(\"finetuned flan-t5 model\")\n",
    "\n",
    "metrics.ConfusionMatrixDisplay(\n",
    "    confusion_matrix=metrics.confusion_matrix(expected_tags_int, zero_shot_predictions_int), \n",
    "    display_labels=['non-clickbait', 'clickbait']).plot(ax=ax[0], cmap='Blues',)\n",
    "\n",
    "metrics.ConfusionMatrixDisplay(\n",
    "    confusion_matrix=metrics.confusion_matrix(expected_tags_int, finetuned_predictions_int), \n",
    "    display_labels=['non-clickbait', 'clickbait']).plot(ax=ax[1],cmap='Blues',)\n",
    "\n",
    "\n",
    "plt.tight_layout()  \n",
    "plt.show()\n"
   ]
  },
  {
   "cell_type": "markdown",
   "id": "c3ecbf1c-a488-4e3c-b55d-25731e5453b8",
   "metadata": {},
   "source": [
    "### Logging Confusion Matrix to Comet\n",
    "\n",
    "The code below saves the confusion matrice to the selected Comet experiment. You can obtained the experiment key from Comet's experiment dashboard."
   ]
  },
  {
   "cell_type": "code",
   "execution_count": 105,
   "id": "1709a2d4-c2b6-4eab-a15f-60b2a9a853fb",
   "metadata": {},
   "outputs": [
    {
     "name": "stderr",
     "output_type": "stream",
     "text": [
      "\u001b[1;38;5;214mCOMET WARNING:\u001b[0m As you are running in a Jupyter environment, you will need to call `experiment.end()` when finished to ensure all metrics and code are logged before exiting.\n",
      "\u001b[1;38;5;39mCOMET INFO:\u001b[0m Couldn't find a Git repository in '/Users/Tolu/llmops/venv' nor in any parent directory. Set `COMET_GIT_DIRECTORY` if your Git Repository is elsewhere.\n",
      "\u001b[1;38;5;39mCOMET INFO:\u001b[0m Experiment is live on comet.com https://www.comet.com/projects-space/clickbait-detector-flan-t5/b21d5b82214e478186a04a0d3f3cdfa9\n",
      "\n",
      "\u001b[1;38;5;39mCOMET INFO:\u001b[0m ---------------------------------------------------------------------------------------\n",
      "\u001b[1;38;5;39mCOMET INFO:\u001b[0m Comet.ml ExistingExperiment Summary\n",
      "\u001b[1;38;5;39mCOMET INFO:\u001b[0m ---------------------------------------------------------------------------------------\n",
      "\u001b[1;38;5;39mCOMET INFO:\u001b[0m   Data:\n",
      "\u001b[1;38;5;39mCOMET INFO:\u001b[0m     display_summary_level : 1\n",
      "\u001b[1;38;5;39mCOMET INFO:\u001b[0m     url                   : https://www.comet.com/projects-space/clickbait-detector-flan-t5/b21d5b82214e478186a04a0d3f3cdfa9\n",
      "\u001b[1;38;5;39mCOMET INFO:\u001b[0m   Uploads:\n",
      "\u001b[1;38;5;39mCOMET INFO:\u001b[0m     confusion-matrix : 1\n",
      "\u001b[1;38;5;39mCOMET INFO:\u001b[0m \n",
      "\u001b[1;38;5;39mCOMET INFO:\u001b[0m Please wait for assets to finish uploading (timeout is 10800 seconds)\n",
      "\u001b[1;38;5;39mCOMET INFO:\u001b[0m All assets have been sent, waiting for delivery confirmation\n"
     ]
    }
   ],
   "source": [
    "from comet_ml import ExistingExperiment\n",
    "\n",
    "experiment = ExistingExperiment(api_key=COMET_API_KEY, previous_experiment=\"b21d5b82214e478186a04a0d3f3cdfa9\")\n",
    "experiment.log_confusion_matrix(expected_tags_int, zero_shot_predictions_int,file_name=\"confusion-matrix-gpt3.json\",title=\"gpt-3.5-turbo base model: zero shot\",overwrite = True, labels=list(index_to_class.values()))\n",
    "experiment.log_confusion_matrix(expected_tags_int, finetuned_predictions_int,overwrite = True,file_name=\"confusion-matrix-flant5.json\", title=\"finetuned flan-t5 model\", labels=list(index_to_class.values()))\n",
    "\n",
    "experiment.end()"
   ]
  },
  {
   "cell_type": "markdown",
   "id": "c32ee6a4-07fc-4c8b-b917-302c9a6b8d24",
   "metadata": {},
   "source": [
    "### Logging Prompts to Comet"
   ]
  },
  {
   "cell_type": "code",
   "execution_count": 43,
   "id": "2142afe2-a51a-431b-89b5-75effeecb8b6",
   "metadata": {},
   "outputs": [],
   "source": [
    "# for comet logging\n",
    "comet_llm.init(project=\"clickbait-detector-flan-t5-prompts\", workspace = COMET_WORKSPACE)\n",
    "\n",
    "for i in range(len(prompts)):      \n",
    "    # log finetuned model prompts\n",
    "    comet_llm.log_prompt(\n",
    "        prompt = prefix + prompts[i][\"headline\"],\n",
    "        tags = [\"flan-t5-base\", \"fine-tuned\" ],\n",
    "        metadata = {\n",
    "            \"article\": prompts[i][\"headline\"],\n",
    "            \"model_name\": \"flan-t5-base\",\n",
    "            \"temperature\": 1.0,\n",
    "            \"expected_output\": expected_tags[i],\n",
    "        },\n",
    "        output = finetuned_predictions[i]\n",
    "    )\n",
    "    \n",
    "    # log zero-shot prompts\n",
    "    comet_llm.log_prompt(\n",
    "        prompt = zero_shot_template.format(Input=prompts[i][\"headline\"]),\n",
    "        tags = [\"gpt-3.5-turbo\", \"zero-shot\" ],\n",
    "        metadata = {\n",
    "            \"article\": prompts[i][\"headline\"],\n",
    "            \"model_name\": \"zero-shot\",\n",
    "            \"expected_output\": expected_tags[i],\n",
    "        },\n",
    "        output = zero_shot_predictions[i]\n",
    "    )"
   ]
  },
  {
   "cell_type": "code",
   "execution_count": null,
   "id": "86e4a573-be9d-4487-80f7-86108a39287a",
   "metadata": {},
   "outputs": [],
   "source": []
  }
 ],
 "metadata": {
  "kernelspec": {
   "display_name": "Python 3 (ipykernel)",
   "language": "python",
   "name": "python3"
  },
  "language_info": {
   "codemirror_mode": {
    "name": "ipython",
    "version": 3
   },
   "file_extension": ".py",
   "mimetype": "text/x-python",
   "name": "python",
   "nbconvert_exporter": "python",
   "pygments_lexer": "ipython3",
   "version": "3.9.6"
  }
 },
 "nbformat": 4,
 "nbformat_minor": 5
}
